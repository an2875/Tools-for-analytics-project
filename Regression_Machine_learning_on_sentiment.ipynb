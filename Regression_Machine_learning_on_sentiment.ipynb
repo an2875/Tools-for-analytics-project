{
 "cells": [
  {
   "cell_type": "code",
   "execution_count": 3,
   "metadata": {},
   "outputs": [],
   "source": [
    "import csv\n",
    "import pandas as pd\n",
    "import numpy as np"
   ]
  },
  {
   "cell_type": "code",
   "execution_count": 4,
   "metadata": {},
   "outputs": [],
   "source": [
    "df=pd.read_csv('final_data.csv')\n"
   ]
  },
  {
   "cell_type": "code",
   "execution_count": 5,
   "metadata": {},
   "outputs": [],
   "source": [
    "df=df.dropna()\n",
    "df=df.set_index(['Unnamed: 0'])"
   ]
  },
  {
   "cell_type": "code",
   "execution_count": 6,
   "metadata": {},
   "outputs": [],
   "source": [
    "df['follower_count']=df['follower_count']/1000000\n"
   ]
  },
  {
   "cell_type": "code",
   "execution_count": 7,
   "metadata": {},
   "outputs": [],
   "source": [
    "df['Positive']=df['Positive']*1000\n",
    "df['Negative']=df['Negative']*1000\n",
    "df['Anticipation']=df['Anticipation']*1000\n",
    "df['Disgust']=df['Disgust']*1000\n",
    "df['Fear']=df['Fear']*1000\n",
    "df['Joy']=df['Joy']*1000\n",
    "df['Sadness']=df['Sadness']*1000\n",
    "df['Surprise']=df['Surprise']*1000\n",
    "df['Trust']=df['Trust']*1000"
   ]
  },
  {
   "cell_type": "code",
   "execution_count": 8,
   "metadata": {},
   "outputs": [
    {
     "data": {
      "text/html": [
       "<div>\n",
       "<style scoped>\n",
       "    .dataframe tbody tr th:only-of-type {\n",
       "        vertical-align: middle;\n",
       "    }\n",
       "\n",
       "    .dataframe tbody tr th {\n",
       "        vertical-align: top;\n",
       "    }\n",
       "\n",
       "    .dataframe thead th {\n",
       "        text-align: right;\n",
       "    }\n",
       "</style>\n",
       "<table border=\"1\" class=\"dataframe\">\n",
       "  <thead>\n",
       "    <tr style=\"text-align: right;\">\n",
       "      <th></th>\n",
       "      <th>Anticipation</th>\n",
       "      <th>Disgust</th>\n",
       "      <th>Fear</th>\n",
       "      <th>Joy</th>\n",
       "      <th>Negative</th>\n",
       "      <th>Positive</th>\n",
       "      <th>Sadness</th>\n",
       "      <th>Surprise</th>\n",
       "      <th>Trust</th>\n",
       "      <th>follower_count</th>\n",
       "      <th>Pct_change</th>\n",
       "    </tr>\n",
       "  </thead>\n",
       "  <tbody>\n",
       "    <tr>\n",
       "      <th>count</th>\n",
       "      <td>101.000000</td>\n",
       "      <td>101.000000</td>\n",
       "      <td>101.000000</td>\n",
       "      <td>101.000000</td>\n",
       "      <td>101.000000</td>\n",
       "      <td>101.000000</td>\n",
       "      <td>101.000000</td>\n",
       "      <td>101.000000</td>\n",
       "      <td>101.000000</td>\n",
       "      <td>101.000000</td>\n",
       "      <td>101.000000</td>\n",
       "    </tr>\n",
       "    <tr>\n",
       "      <th>mean</th>\n",
       "      <td>10.488975</td>\n",
       "      <td>1.702832</td>\n",
       "      <td>4.964858</td>\n",
       "      <td>4.616569</td>\n",
       "      <td>9.353808</td>\n",
       "      <td>13.891621</td>\n",
       "      <td>3.940987</td>\n",
       "      <td>3.652298</td>\n",
       "      <td>9.813697</td>\n",
       "      <td>14.140550</td>\n",
       "      <td>-0.001188</td>\n",
       "    </tr>\n",
       "    <tr>\n",
       "      <th>std</th>\n",
       "      <td>3.206982</td>\n",
       "      <td>1.016819</td>\n",
       "      <td>2.088546</td>\n",
       "      <td>1.988888</td>\n",
       "      <td>3.197049</td>\n",
       "      <td>4.711806</td>\n",
       "      <td>1.887132</td>\n",
       "      <td>1.503773</td>\n",
       "      <td>3.778724</td>\n",
       "      <td>22.197178</td>\n",
       "      <td>0.014607</td>\n",
       "    </tr>\n",
       "    <tr>\n",
       "      <th>min</th>\n",
       "      <td>1.800180</td>\n",
       "      <td>0.000000</td>\n",
       "      <td>0.900090</td>\n",
       "      <td>0.000000</td>\n",
       "      <td>4.004577</td>\n",
       "      <td>4.500450</td>\n",
       "      <td>0.000000</td>\n",
       "      <td>0.000000</td>\n",
       "      <td>2.700270</td>\n",
       "      <td>0.212332</td>\n",
       "      <td>-0.076124</td>\n",
       "    </tr>\n",
       "    <tr>\n",
       "      <th>25%</th>\n",
       "      <td>8.661417</td>\n",
       "      <td>1.003512</td>\n",
       "      <td>3.613207</td>\n",
       "      <td>3.364279</td>\n",
       "      <td>6.974128</td>\n",
       "      <td>11.125802</td>\n",
       "      <td>2.595839</td>\n",
       "      <td>2.631579</td>\n",
       "      <td>7.580274</td>\n",
       "      <td>4.112753</td>\n",
       "      <td>-0.008042</td>\n",
       "    </tr>\n",
       "    <tr>\n",
       "      <th>50%</th>\n",
       "      <td>10.335917</td>\n",
       "      <td>1.578947</td>\n",
       "      <td>4.850309</td>\n",
       "      <td>4.529136</td>\n",
       "      <td>8.902541</td>\n",
       "      <td>13.502898</td>\n",
       "      <td>3.627570</td>\n",
       "      <td>3.500583</td>\n",
       "      <td>9.493964</td>\n",
       "      <td>7.756158</td>\n",
       "      <td>-0.000095</td>\n",
       "    </tr>\n",
       "    <tr>\n",
       "      <th>75%</th>\n",
       "      <td>12.350371</td>\n",
       "      <td>2.104458</td>\n",
       "      <td>6.048048</td>\n",
       "      <td>5.504010</td>\n",
       "      <td>11.071289</td>\n",
       "      <td>16.488072</td>\n",
       "      <td>4.822561</td>\n",
       "      <td>4.508373</td>\n",
       "      <td>11.059934</td>\n",
       "      <td>17.318253</td>\n",
       "      <td>0.007565</td>\n",
       "    </tr>\n",
       "    <tr>\n",
       "      <th>max</th>\n",
       "      <td>22.809998</td>\n",
       "      <td>5.452320</td>\n",
       "      <td>14.874915</td>\n",
       "      <td>10.998945</td>\n",
       "      <td>20.607858</td>\n",
       "      <td>36.200405</td>\n",
       "      <td>10.229800</td>\n",
       "      <td>10.546934</td>\n",
       "      <td>33.593976</td>\n",
       "      <td>181.115430</td>\n",
       "      <td>0.026556</td>\n",
       "    </tr>\n",
       "  </tbody>\n",
       "</table>\n",
       "</div>"
      ],
      "text/plain": [
       "       Anticipation     Disgust        Fear         Joy    Negative  \\\n",
       "count    101.000000  101.000000  101.000000  101.000000  101.000000   \n",
       "mean      10.488975    1.702832    4.964858    4.616569    9.353808   \n",
       "std        3.206982    1.016819    2.088546    1.988888    3.197049   \n",
       "min        1.800180    0.000000    0.900090    0.000000    4.004577   \n",
       "25%        8.661417    1.003512    3.613207    3.364279    6.974128   \n",
       "50%       10.335917    1.578947    4.850309    4.529136    8.902541   \n",
       "75%       12.350371    2.104458    6.048048    5.504010   11.071289   \n",
       "max       22.809998    5.452320   14.874915   10.998945   20.607858   \n",
       "\n",
       "         Positive     Sadness    Surprise       Trust  follower_count  \\\n",
       "count  101.000000  101.000000  101.000000  101.000000      101.000000   \n",
       "mean    13.891621    3.940987    3.652298    9.813697       14.140550   \n",
       "std      4.711806    1.887132    1.503773    3.778724       22.197178   \n",
       "min      4.500450    0.000000    0.000000    2.700270        0.212332   \n",
       "25%     11.125802    2.595839    2.631579    7.580274        4.112753   \n",
       "50%     13.502898    3.627570    3.500583    9.493964        7.756158   \n",
       "75%     16.488072    4.822561    4.508373   11.059934       17.318253   \n",
       "max     36.200405   10.229800   10.546934   33.593976      181.115430   \n",
       "\n",
       "       Pct_change  \n",
       "count  101.000000  \n",
       "mean    -0.001188  \n",
       "std      0.014607  \n",
       "min     -0.076124  \n",
       "25%     -0.008042  \n",
       "50%     -0.000095  \n",
       "75%      0.007565  \n",
       "max      0.026556  "
      ]
     },
     "execution_count": 8,
     "metadata": {},
     "output_type": "execute_result"
    }
   ],
   "source": [
    "pd.options.display.max_columns=11\n",
    "df.describe()"
   ]
  },
  {
   "cell_type": "code",
   "execution_count": 9,
   "metadata": {},
   "outputs": [],
   "source": [
    "#here is a brief description of the dataset after scaling and adjusting for the parameters"
   ]
  },
  {
   "cell_type": "code",
   "execution_count": 10,
   "metadata": {},
   "outputs": [
    {
     "name": "stdout",
     "output_type": "stream",
     "text": [
      "<class 'pandas.core.frame.DataFrame'>\n",
      "Index: 101 entries, 2016-06-15 to 2016-03-30\n",
      "Data columns (total 11 columns):\n",
      "Anticipation      101 non-null float64\n",
      "Disgust           101 non-null float64\n",
      "Fear              101 non-null float64\n",
      "Joy               101 non-null float64\n",
      "Negative          101 non-null float64\n",
      "Positive          101 non-null float64\n",
      "Sadness           101 non-null float64\n",
      "Surprise          101 non-null float64\n",
      "Trust             101 non-null float64\n",
      "follower_count    101 non-null float64\n",
      "Pct_change        101 non-null float64\n",
      "dtypes: float64(11)\n",
      "memory usage: 9.5+ KB\n"
     ]
    }
   ],
   "source": [
    "df.info()"
   ]
  },
  {
   "cell_type": "code",
   "execution_count": 11,
   "metadata": {},
   "outputs": [
    {
     "data": {
      "text/plain": [
       "101"
      ]
     },
     "execution_count": 11,
     "metadata": {},
     "output_type": "execute_result"
    }
   ],
   "source": [
    "df['tagged']=np.where(df['Pct_change']<0,0,1)\n",
    "len(df)"
   ]
  },
  {
   "cell_type": "code",
   "execution_count": 12,
   "metadata": {},
   "outputs": [
    {
     "data": {
      "image/png": "[encoded data removed]",
      "text/plain": [
       "<Figure size 432x288 with 1 Axes>"
      ]
     },
     "metadata": {
      "needs_background": "light"
     },
     "output_type": "display_data"
    }
   ],
   "source": [
    "import matplotlib.pyplot as plot\n",
    "plot.pcolor(df.corr(),cmap='coolwarm') \n",
    "plot.show()"
   ]
  },
  {
   "cell_type": "code",
   "execution_count": 13,
   "metadata": {},
   "outputs": [],
   "source": [
    "from sklearn.model_selection import train_test_split\n",
    "\n",
    "train, test = train_test_split(df, test_size = 0.3)\n",
    "x_train = train.iloc[0:,0:10]\n",
    "y_train = train['tagged']\n",
    "x_test = test.iloc[0:,0:10]\n",
    "y_test = test['tagged']"
   ]
  },
  {
   "cell_type": "code",
   "execution_count": 14,
   "metadata": {},
   "outputs": [
    {
     "data": {
      "text/plain": [
       "LinearRegression(copy_X=True, fit_intercept=True, n_jobs=1, normalize=False)"
      ]
     },
     "execution_count": 14,
     "metadata": {},
     "output_type": "execute_result"
    }
   ],
   "source": [
    "from sklearn import linear_model\n",
    "model = linear_model.LinearRegression()\n",
    "model.fit(x_train,y_train)\n"
   ]
  },
  {
   "cell_type": "code",
   "execution_count": 15,
   "metadata": {},
   "outputs": [
    {
     "name": "stdout",
     "output_type": "stream",
     "text": [
      "[0.44496859 0.22266407 0.0930235  0.58085681 0.25512408 0.4034017\n",
      " 0.44219937 0.52814385 0.52132777 0.95655668 0.49881422 1.02518449\n",
      " 0.6429702  0.49301831 0.31670924 0.1145961  1.01625904 0.37743897\n",
      " 0.51813825 0.38037216 0.38499171 0.06577854 0.60490435 0.80067344\n",
      " 0.47846994 0.84971147 0.08584567 0.72874031 0.56790271 0.56687237\n",
      " 0.1432672 ]\n"
     ]
    }
   ],
   "source": [
    "testing_predictions  = model.predict(x_test)\n",
    "print(testing_predictions)"
   ]
  },
  {
   "cell_type": "code",
   "execution_count": 16,
   "metadata": {},
   "outputs": [
    {
     "name": "stdout",
     "output_type": "stream",
     "text": [
      "0.4449685902718831 1\n",
      "0.22266406705554834 0\n",
      "0.09302350381560459 0\n",
      "0.580856814388074 0\n",
      "0.2551240772932153 0\n",
      "0.4034016970240661 0\n",
      "0.4421993667337927 0\n",
      "0.5281438471587578 0\n",
      "0.521327770758969 0\n",
      "0.9565566782528712 1\n",
      "0.49881421987371033 1\n",
      "1.025184489630204 0\n",
      "0.6429701984718446 1\n",
      "0.4930183062402549 0\n",
      "0.31670923635926507 0\n",
      "0.11459609564373083 0\n",
      "1.0162590429328497 1\n",
      "0.3774389739616767 0\n",
      "0.5181382530347913 0\n",
      "0.38037215990397194 0\n",
      "0.38499170684512124 0\n",
      "0.0657785366726105 0\n",
      "0.6049043479539875 1\n",
      "0.8006734380839198 1\n",
      "0.4784699405691457 1\n",
      "0.8497114725178772 0\n",
      "0.08584566762930393 1\n",
      "0.7287403105041381 0\n",
      "0.5679027133766468 0\n",
      "0.5668723725207714 0\n",
      "0.1432672017243345 0\n"
     ]
    }
   ],
   "source": [
    "for i in range(len(testing_predictions)):\n",
    "    print(testing_predictions[i],y_train[i])"
   ]
  },
  {
   "cell_type": "code",
   "execution_count": 17,
   "metadata": {},
   "outputs": [],
   "source": [
    "\n",
    "def get_classification(predictions,threshold):\n",
    "    classes = np.zeros_like(testing_predictions)\n",
    "    for i in range(len(classes)):\n",
    "        if predictions[i] > threshold:\n",
    "            classes[i] = 1\n",
    "    return classes\n"
   ]
  },
  {
   "cell_type": "code",
   "execution_count": 18,
   "metadata": {},
   "outputs": [
    {
     "data": {
      "text/plain": [
       "array([0., 0., 0., 0., 0., 0., 0., 0., 0., 1., 0., 1., 0., 0., 0., 0., 1.,\n",
       "       0., 0., 0., 0., 0., 0., 1., 0., 1., 0., 1., 0., 0., 0.])"
      ]
     },
     "execution_count": 18,
     "metadata": {},
     "output_type": "execute_result"
    }
   ],
   "source": [
    "get_classification(testing_predictions,0.7)"
   ]
  },
  {
   "cell_type": "code",
   "execution_count": null,
   "metadata": {},
   "outputs": [],
   "source": []
  }
 ],
 "metadata": {
  "kernelspec": {
   "display_name": "Python 3",
   "language": "python",
   "name": "python3"
  },
  "language_info": {
   "codemirror_mode": {
    "name": "ipython",
    "version": 3
   },
   "file_extension": ".py",
   "mimetype": "text/x-python",
   "name": "python",
   "nbconvert_exporter": "python",
   "pygments_lexer": "ipython3",
   "version": "3.7.0"
  }
 },
 "nbformat": 4,
 "nbformat_minor": 2
}
