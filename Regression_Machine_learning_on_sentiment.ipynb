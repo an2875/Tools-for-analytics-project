{
 "cells": [
  {
   "cell_type": "code",
   "execution_count": 12,
   "metadata": {},
   "outputs": [],
   "source": [
    "import csv\n",
    "import pandas as pd\n",
    "import numpy as np"
   ]
  },
  {
   "cell_type": "code",
   "execution_count": 13,
   "metadata": {},
   "outputs": [],
   "source": [
    "df=pd.read_csv('final_data.csv')\n"
   ]
  },
  {
   "cell_type": "code",
   "execution_count": 3,
   "metadata": {},
   "outputs": [],
   "source": [
    "df=df.dropna()\n",
    "df=df.set_index(['Unnamed: 0'])"
   ]
  },
  {
   "cell_type": "code",
   "execution_count": 4,
   "metadata": {},
   "outputs": [],
   "source": [
    "df['follower_count']=df['follower_count']/1000000\n"
   ]
  },
  {
   "cell_type": "code",
   "execution_count": 5,
   "metadata": {},
   "outputs": [],
   "source": [
    "df['Positive']=df['Positive']*1000\n",
    "df['Negative']=df['Negative']*1000\n",
    "df['Anticipation']=df['Anticipation']*1000\n",
    "df['Disgust']=df['Disgust']*1000\n",
    "df['Fear']=df['Fear']*1000\n",
    "df['Joy']=df['Joy']*1000\n",
    "df['Sadness']=df['Sadness']*1000\n",
    "df['Surprise']=df['Surprise']*1000\n",
    "df['Trust']=df['Trust']*1000"
   ]
  },
  {
   "cell_type": "code",
   "execution_count": 8,
   "metadata": {},
   "outputs": [
    {
     "data": {
      "text/html": [
       "<div>\n",
       "<style scoped>\n",
       "    .dataframe tbody tr th:only-of-type {\n",
       "        vertical-align: middle;\n",
       "    }\n",
       "\n",
       "    .dataframe tbody tr th {\n",
       "        vertical-align: top;\n",
       "    }\n",
       "\n",
       "    .dataframe thead th {\n",
       "        text-align: right;\n",
       "    }\n",
       "</style>\n",
       "<table border=\"1\" class=\"dataframe\">\n",
       "  <thead>\n",
       "    <tr style=\"text-align: right;\">\n",
       "      <th></th>\n",
       "      <th>Anticipation</th>\n",
       "      <th>Disgust</th>\n",
       "      <th>Fear</th>\n",
       "      <th>Joy</th>\n",
       "      <th>Negative</th>\n",
       "      <th>Pct_change</th>\n",
       "      <th>Positive</th>\n",
       "      <th>Sadness</th>\n",
       "      <th>Surprise</th>\n",
       "      <th>Trust</th>\n",
       "      <th>follower_count</th>\n",
       "    </tr>\n",
       "  </thead>\n",
       "  <tbody>\n",
       "    <tr>\n",
       "      <th>count</th>\n",
       "      <td>53.000000</td>\n",
       "      <td>53.000000</td>\n",
       "      <td>53.000000</td>\n",
       "      <td>53.000000</td>\n",
       "      <td>53.000000</td>\n",
       "      <td>53.000000</td>\n",
       "      <td>53.000000</td>\n",
       "      <td>53.000000</td>\n",
       "      <td>53.000000</td>\n",
       "      <td>53.000000</td>\n",
       "      <td>53.000000</td>\n",
       "    </tr>\n",
       "    <tr>\n",
       "      <th>mean</th>\n",
       "      <td>11.092693</td>\n",
       "      <td>1.626746</td>\n",
       "      <td>5.021357</td>\n",
       "      <td>4.674050</td>\n",
       "      <td>9.486453</td>\n",
       "      <td>-0.000498</td>\n",
       "      <td>13.987239</td>\n",
       "      <td>3.734643</td>\n",
       "      <td>3.912664</td>\n",
       "      <td>10.688954</td>\n",
       "      <td>5.416724</td>\n",
       "    </tr>\n",
       "    <tr>\n",
       "      <th>std</th>\n",
       "      <td>3.694312</td>\n",
       "      <td>1.201556</td>\n",
       "      <td>2.567673</td>\n",
       "      <td>2.373391</td>\n",
       "      <td>3.705279</td>\n",
       "      <td>0.012345</td>\n",
       "      <td>5.575934</td>\n",
       "      <td>2.049963</td>\n",
       "      <td>1.724799</td>\n",
       "      <td>4.621385</td>\n",
       "      <td>4.830810</td>\n",
       "    </tr>\n",
       "    <tr>\n",
       "      <th>min</th>\n",
       "      <td>1.800180</td>\n",
       "      <td>0.000000</td>\n",
       "      <td>0.900090</td>\n",
       "      <td>0.000000</td>\n",
       "      <td>4.004577</td>\n",
       "      <td>-0.042969</td>\n",
       "      <td>4.500450</td>\n",
       "      <td>0.000000</td>\n",
       "      <td>0.000000</td>\n",
       "      <td>2.700270</td>\n",
       "      <td>0.212332</td>\n",
       "    </tr>\n",
       "    <tr>\n",
       "      <th>25%</th>\n",
       "      <td>9.148591</td>\n",
       "      <td>0.782932</td>\n",
       "      <td>3.301751</td>\n",
       "      <td>2.969709</td>\n",
       "      <td>6.731340</td>\n",
       "      <td>-0.007082</td>\n",
       "      <td>10.757053</td>\n",
       "      <td>2.240607</td>\n",
       "      <td>2.642881</td>\n",
       "      <td>8.185539</td>\n",
       "      <td>2.335363</td>\n",
       "    </tr>\n",
       "    <tr>\n",
       "      <th>50%</th>\n",
       "      <td>11.035119</td>\n",
       "      <td>1.417686</td>\n",
       "      <td>4.827701</td>\n",
       "      <td>4.673417</td>\n",
       "      <td>9.000900</td>\n",
       "      <td>-0.000382</td>\n",
       "      <td>13.558569</td>\n",
       "      <td>3.477589</td>\n",
       "      <td>3.761631</td>\n",
       "      <td>10.436572</td>\n",
       "      <td>4.961737</td>\n",
       "    </tr>\n",
       "    <tr>\n",
       "      <th>75%</th>\n",
       "      <td>12.684989</td>\n",
       "      <td>2.104458</td>\n",
       "      <td>6.064281</td>\n",
       "      <td>5.789474</td>\n",
       "      <td>10.904917</td>\n",
       "      <td>0.007692</td>\n",
       "      <td>16.500849</td>\n",
       "      <td>4.560137</td>\n",
       "      <td>4.766899</td>\n",
       "      <td>12.533875</td>\n",
       "      <td>6.117055</td>\n",
       "    </tr>\n",
       "    <tr>\n",
       "      <th>max</th>\n",
       "      <td>22.809998</td>\n",
       "      <td>5.452320</td>\n",
       "      <td>14.874915</td>\n",
       "      <td>10.998945</td>\n",
       "      <td>20.607858</td>\n",
       "      <td>0.021046</td>\n",
       "      <td>36.200405</td>\n",
       "      <td>10.229800</td>\n",
       "      <td>10.546934</td>\n",
       "      <td>33.593976</td>\n",
       "      <td>22.504935</td>\n",
       "    </tr>\n",
       "  </tbody>\n",
       "</table>\n",
       "</div>"
      ],
      "text/plain": [
       "       Anticipation    Disgust       Fear        Joy   Negative  Pct_change  \\\n",
       "count     53.000000  53.000000  53.000000  53.000000  53.000000   53.000000   \n",
       "mean      11.092693   1.626746   5.021357   4.674050   9.486453   -0.000498   \n",
       "std        3.694312   1.201556   2.567673   2.373391   3.705279    0.012345   \n",
       "min        1.800180   0.000000   0.900090   0.000000   4.004577   -0.042969   \n",
       "25%        9.148591   0.782932   3.301751   2.969709   6.731340   -0.007082   \n",
       "50%       11.035119   1.417686   4.827701   4.673417   9.000900   -0.000382   \n",
       "75%       12.684989   2.104458   6.064281   5.789474  10.904917    0.007692   \n",
       "max       22.809998   5.452320  14.874915  10.998945  20.607858    0.021046   \n",
       "\n",
       "        Positive    Sadness   Surprise      Trust  follower_count  \n",
       "count  53.000000  53.000000  53.000000  53.000000       53.000000  \n",
       "mean   13.987239   3.734643   3.912664  10.688954        5.416724  \n",
       "std     5.575934   2.049963   1.724799   4.621385        4.830810  \n",
       "min     4.500450   0.000000   0.000000   2.700270        0.212332  \n",
       "25%    10.757053   2.240607   2.642881   8.185539        2.335363  \n",
       "50%    13.558569   3.477589   3.761631  10.436572        4.961737  \n",
       "75%    16.500849   4.560137   4.766899  12.533875        6.117055  \n",
       "max    36.200405  10.229800  10.546934  33.593976       22.504935  "
      ]
     },
     "execution_count": 8,
     "metadata": {},
     "output_type": "execute_result"
    }
   ],
   "source": [
    "pd.options.display.max_columns=11\n",
    "df.describe()"
   ]
  },
  {
   "cell_type": "code",
   "execution_count": 9,
   "metadata": {},
   "outputs": [],
   "source": [
    "#here is a brief description of the dataset after scaling and adjusting for the parameters"
   ]
  },
  {
   "cell_type": "code",
   "execution_count": 10,
   "metadata": {},
   "outputs": [
    {
     "name": "stdout",
     "output_type": "stream",
     "text": [
      "<class 'pandas.core.frame.DataFrame'>\n",
      "Index: 53 entries, 2016-06-15 to 2016-03-30\n",
      "Data columns (total 11 columns):\n",
      "Anticipation      53 non-null float64\n",
      "Disgust           53 non-null float64\n",
      "Fear              53 non-null float64\n",
      "Joy               53 non-null float64\n",
      "Negative          53 non-null float64\n",
      "Pct_change        53 non-null float64\n",
      "Positive          53 non-null float64\n",
      "Sadness           53 non-null float64\n",
      "Surprise          53 non-null float64\n",
      "Trust             53 non-null float64\n",
      "follower_count    53 non-null float64\n",
      "dtypes: float64(11)\n",
      "memory usage: 5.0+ KB\n"
     ]
    }
   ],
   "source": [
    "df.info()"
   ]
  },
  {
   "cell_type": "code",
   "execution_count": 11,
   "metadata": {},
   "outputs": [
    {
     "data": {
      "text/plain": [
       "53"
      ]
     },
     "execution_count": 11,
     "metadata": {},
     "output_type": "execute_result"
    }
   ],
   "source": [
    "df['tagged']=np.where(df['Pct_change']<0,0,1)\n",
    "len(df)"
   ]
  },
  {
   "cell_type": "code",
   "execution_count": null,
   "metadata": {},
   "outputs": [],
   "source": []
  }
 ],
 "metadata": {
  "kernelspec": {
   "display_name": "Python 3",
   "language": "python",
   "name": "python3"
  },
  "language_info": {
   "codemirror_mode": {
    "name": "ipython",
    "version": 3
   },
   "file_extension": ".py",
   "mimetype": "text/x-python",
   "name": "python",
   "nbconvert_exporter": "python",
   "pygments_lexer": "ipython3",
   "version": "3.7.0"
  }
 },
 "nbformat": 4,
 "nbformat_minor": 2
}
