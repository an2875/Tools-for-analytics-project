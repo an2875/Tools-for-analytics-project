{
 "cells": [
  {
   "cell_type": "code",
   "execution_count": 2,
   "metadata": {},
   "outputs": [],
   "source": [
    "consumer_key='Z3qTnBcOFSAJ0U4o4AHNyxUaR'\n",
    "consumer_secret='QAKH1iUeD9vzoHyUxw8phQVWdYfPD9L8VICj4rzLrWS64iq5zR'\n",
    "access_token='1064529852555030528-CWSgrywOvLZzOq0uEsyVdUtPOY9XBX'\n",
    "access_token_secret='YN5iSpuLiIaCdAZrJxXm2YezQmxCyKN3nG8hltttYAEt6'"
   ]
  },
  {
   "cell_type": "code",
   "execution_count": 3,
   "metadata": {},
   "outputs": [],
   "source": [
    "import tweepy\n",
    "auth = tweepy.OAuthHandler(consumer_key, consumer_secret)\n",
    "auth.set_access_token(access_token, access_token_secret)\n",
    "api = tweepy.API(auth)\n",
    "search_term = 'AAPL'\n",
    "## fill in your search query and store your results in a variable\n",
    "results = api.search(q = search_term, lang = \"en\", result_type = \"recent\", count = 2000)"
   ]
  },
  {
   "cell_type": "code",
   "execution_count": null,
   "metadata": {},
   "outputs": [],
   "source": [
    "search_term = 'AAPL'\n",
    "for i in range(len(results)):\n",
    "    fname = search_term+'.'+str(len(results)-i)\n",
    "    with open('C:/Users/xiyuyang/Desktop/New folder/tweets/'+fname,'w',encoding=\"utf-8\") as f:\n",
    "        f.write(results[i]._json['text']+'\\n')"
   ]
  },
  {
   "cell_type": "code",
   "execution_count": null,
   "metadata": {},
   "outputs": [],
   "source": [
    "results"
   ]
  },
  {
   "cell_type": "code",
   "execution_count": null,
   "metadata": {},
   "outputs": [],
   "source": [
    "from nltk.corpus import PlaintextCorpusReader\n",
    "apple_data = PlaintextCorpusReader('C:/Users/Dipanshu Gurwara/Desktop/New folder/tweets/','AAPL.*')"
   ]
  },
  {
   "cell_type": "code",
   "execution_count": null,
   "metadata": {},
   "outputs": [],
   "source": [
    "apple_data.raw()"
   ]
  }
 ],
 "metadata": {
  "kernelspec": {
   "display_name": "Python 3",
   "language": "python",
   "name": "python3"
  },
  "language_info": {
   "codemirror_mode": {
    "name": "ipython",
    "version": 3
   },
   "file_extension": ".py",
   "mimetype": "text/x-python",
   "name": "python",
   "nbconvert_exporter": "python",
   "pygments_lexer": "ipython3",
   "version": "3.6.5"
  }
 },
 "nbformat": 4,
 "nbformat_minor": 2
}
