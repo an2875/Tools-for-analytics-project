{
 "cells": [
  {
   "cell_type": "code",
   "execution_count": 5,
   "metadata": {},
   "outputs": [],
   "source": [
    "import numpy as np\n",
    "import pandas as pd\n",
    "import plotly.plotly as py\n",
    "import plotly.graph_objs as go\n",
    "# use 'plotly' to get graphs"
   ]
  },
  {
   "cell_type": "code",
   "execution_count": 8,
   "metadata": {},
   "outputs": [
    {
     "data": {
      "text/html": [
       "<div>\n",
       "<style scoped>\n",
       "    .dataframe tbody tr th:only-of-type {\n",
       "        vertical-align: middle;\n",
       "    }\n",
       "\n",
       "    .dataframe tbody tr th {\n",
       "        vertical-align: top;\n",
       "    }\n",
       "\n",
       "    .dataframe thead th {\n",
       "        text-align: right;\n",
       "    }\n",
       "</style>\n",
       "<table border=\"1\" class=\"dataframe\">\n",
       "  <thead>\n",
       "    <tr style=\"text-align: right;\">\n",
       "      <th></th>\n",
       "      <th>Date</th>\n",
       "      <th>Anticipation</th>\n",
       "      <th>Disgust</th>\n",
       "      <th>Fear</th>\n",
       "      <th>Joy</th>\n",
       "      <th>Negative</th>\n",
       "      <th>Pct_change</th>\n",
       "      <th>Positive</th>\n",
       "      <th>Sadness</th>\n",
       "      <th>Surprise</th>\n",
       "      <th>Trust</th>\n",
       "      <th>follower_count</th>\n",
       "    </tr>\n",
       "  </thead>\n",
       "  <tbody>\n",
       "    <tr>\n",
       "      <th>1</th>\n",
       "      <td>2016-06-15</td>\n",
       "      <td>0.001800</td>\n",
       "      <td>0.001800</td>\n",
       "      <td>0.000900</td>\n",
       "      <td>0.000000</td>\n",
       "      <td>0.009001</td>\n",
       "      <td>0.007692</td>\n",
       "      <td>0.004500</td>\n",
       "      <td>0.000000</td>\n",
       "      <td>0.001800</td>\n",
       "      <td>0.002700</td>\n",
       "      <td>212332.0</td>\n",
       "    </tr>\n",
       "    <tr>\n",
       "      <th>2</th>\n",
       "      <td>2016-06-14</td>\n",
       "      <td>0.007916</td>\n",
       "      <td>0.000609</td>\n",
       "      <td>0.001827</td>\n",
       "      <td>0.005074</td>\n",
       "      <td>0.008930</td>\n",
       "      <td>-0.000699</td>\n",
       "      <td>0.010757</td>\n",
       "      <td>0.002030</td>\n",
       "      <td>0.005277</td>\n",
       "      <td>0.009539</td>\n",
       "      <td>4413122.0</td>\n",
       "    </tr>\n",
       "    <tr>\n",
       "      <th>3</th>\n",
       "      <td>2016-06-13</td>\n",
       "      <td>0.012598</td>\n",
       "      <td>0.000900</td>\n",
       "      <td>0.005399</td>\n",
       "      <td>0.005174</td>\n",
       "      <td>0.006974</td>\n",
       "      <td>-0.008329</td>\n",
       "      <td>0.026772</td>\n",
       "      <td>0.002475</td>\n",
       "      <td>0.004274</td>\n",
       "      <td>0.016423</td>\n",
       "      <td>2652364.0</td>\n",
       "    </tr>\n",
       "    <tr>\n",
       "      <th>6</th>\n",
       "      <td>2016-06-10</td>\n",
       "      <td>0.010336</td>\n",
       "      <td>0.001723</td>\n",
       "      <td>0.003302</td>\n",
       "      <td>0.003445</td>\n",
       "      <td>0.006029</td>\n",
       "      <td>-0.001520</td>\n",
       "      <td>0.008613</td>\n",
       "      <td>0.003302</td>\n",
       "      <td>0.003302</td>\n",
       "      <td>0.005024</td>\n",
       "      <td>6054195.0</td>\n",
       "    </tr>\n",
       "    <tr>\n",
       "      <th>7</th>\n",
       "      <td>2016-06-07</td>\n",
       "      <td>0.003610</td>\n",
       "      <td>0.000000</td>\n",
       "      <td>0.000903</td>\n",
       "      <td>0.002708</td>\n",
       "      <td>0.005415</td>\n",
       "      <td>-0.007082</td>\n",
       "      <td>0.006318</td>\n",
       "      <td>0.000000</td>\n",
       "      <td>0.000000</td>\n",
       "      <td>0.007220</td>\n",
       "      <td>305868.0</td>\n",
       "    </tr>\n",
       "  </tbody>\n",
       "</table>\n",
       "</div>"
      ],
      "text/plain": [
       "         Date  Anticipation   Disgust      Fear       Joy  Negative  \\\n",
       "1  2016-06-15      0.001800  0.001800  0.000900  0.000000  0.009001   \n",
       "2  2016-06-14      0.007916  0.000609  0.001827  0.005074  0.008930   \n",
       "3  2016-06-13      0.012598  0.000900  0.005399  0.005174  0.006974   \n",
       "6  2016-06-10      0.010336  0.001723  0.003302  0.003445  0.006029   \n",
       "7  2016-06-07      0.003610  0.000000  0.000903  0.002708  0.005415   \n",
       "\n",
       "   Pct_change  Positive   Sadness  Surprise     Trust  follower_count  \n",
       "1    0.007692  0.004500  0.000000  0.001800  0.002700        212332.0  \n",
       "2   -0.000699  0.010757  0.002030  0.005277  0.009539       4413122.0  \n",
       "3   -0.008329  0.026772  0.002475  0.004274  0.016423       2652364.0  \n",
       "6   -0.001520  0.008613  0.003302  0.003302  0.005024       6054195.0  \n",
       "7   -0.007082  0.006318  0.000000  0.000000  0.007220        305868.0  "
      ]
     },
     "execution_count": 8,
     "metadata": {},
     "output_type": "execute_result"
    }
   ],
   "source": [
    "datafile = 'final_data.csv'\n",
    "df = pd.read_csv(datafile)\n",
    "df.rename(columns={'Unnamed: 0': 'Date'}, inplace=True) \n",
    "df = df[np.isfinite(df['Pct_change'])] #drop the data where pct_change is nan \n",
    "df.head()"
   ]
  },
  {
   "cell_type": "code",
   "execution_count": 10,
   "metadata": {},
   "outputs": [
    {
     "data": {
      "text/plain": [
       "53"
      ]
     },
     "execution_count": 10,
     "metadata": {},
     "output_type": "execute_result"
    }
   ],
   "source": [
    "#Since the data contains apple and google's data for the same period, we split them into 2 parts \n",
    "len(df.Date.unique())"
   ]
  },
  {
   "cell_type": "code",
   "execution_count": 15,
   "metadata": {},
   "outputs": [
    {
     "data": {
      "text/plain": [
       "1     2016-06-15\n",
       "2     2016-06-14\n",
       "3     2016-06-13\n",
       "6     2016-06-10\n",
       "7     2016-06-07\n",
       "8     2016-06-06\n",
       "11    2016-06-03\n",
       "12    2016-06-02\n",
       "13    2016-06-01\n",
       "14    2016-05-31\n",
       "18    2016-05-27\n",
       "19    2016-05-26\n",
       "20    2016-05-25\n",
       "21    2016-05-24\n",
       "22    2016-05-23\n",
       "25    2016-05-20\n",
       "26    2016-05-19\n",
       "27    2016-05-18\n",
       "28    2016-05-17\n",
       "29    2016-05-16\n",
       "32    2016-05-13\n",
       "33    2016-05-12\n",
       "34    2016-05-11\n",
       "35    2016-05-10\n",
       "36    2016-05-09\n",
       "39    2016-05-06\n",
       "40    2016-05-05\n",
       "41    2016-05-04\n",
       "42    2016-05-03\n",
       "43    2016-05-02\n",
       "46    2016-04-29\n",
       "47    2016-04-28\n",
       "48    2016-04-27\n",
       "49    2016-04-26\n",
       "50    2016-04-25\n",
       "53    2016-04-22\n",
       "54    2016-04-21\n",
       "55    2016-04-20\n",
       "56    2016-04-19\n",
       "57    2016-04-18\n",
       "60    2016-04-15\n",
       "61    2016-04-14\n",
       "62    2016-04-13\n",
       "63    2016-04-12\n",
       "64    2016-04-11\n",
       "67    2016-04-08\n",
       "68    2016-04-07\n",
       "69    2016-04-06\n",
       "Name: Date, dtype: object"
      ]
     },
     "execution_count": 15,
     "metadata": {},
     "output_type": "execute_result"
    }
   ],
   "source": [
    "df['Date'][0:48] # so 0-48 is the apple's da"
   ]
  },
  {
   "cell_type": "code",
   "execution_count": null,
   "metadata": {},
   "outputs": [],
   "source": []
  }
 ],
 "metadata": {
  "kernelspec": {
   "display_name": "Python 3",
   "language": "python",
   "name": "python3"
  },
  "language_info": {
   "codemirror_mode": {
    "name": "ipython",
    "version": 3
   },
   "file_extension": ".py",
   "mimetype": "text/x-python",
   "name": "python",
   "nbconvert_exporter": "python",
   "pygments_lexer": "ipython3",
   "version": "3.6.5"
  }
 },
 "nbformat": 4,
 "nbformat_minor": 2
}
