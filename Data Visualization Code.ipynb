{
 "cells": [
  {
   "cell_type": "code",
   "execution_count": 1,
   "metadata": {},
   "outputs": [],
   "source": [
    "import numpy as np\n",
    "import pandas as pd\n",
    "import plotly.plotly as py\n",
    "import plotly.graph_objs as go\n",
    "# use 'plotly' to get graphs, 'plotly' is an online plotting tool.\n",
    "# Since the plots by 'plotly' cannot be shown in Github, \n",
    "# all plots are saved in a separated file called 'Data Visualization Results'"
   ]
  },
  {
   "cell_type": "code",
   "execution_count": 2,
   "metadata": {},
   "outputs": [
    {
     "data": {
      "text/html": [
       "<div>\n",
       "<style scoped>\n",
       "    .dataframe tbody tr th:only-of-type {\n",
       "        vertical-align: middle;\n",
       "    }\n",
       "\n",
       "    .dataframe tbody tr th {\n",
       "        vertical-align: top;\n",
       "    }\n",
       "\n",
       "    .dataframe thead th {\n",
       "        text-align: right;\n",
       "    }\n",
       "</style>\n",
       "<table border=\"1\" class=\"dataframe\">\n",
       "  <thead>\n",
       "    <tr style=\"text-align: right;\">\n",
       "      <th></th>\n",
       "      <th>Date</th>\n",
       "      <th>Anticipation</th>\n",
       "      <th>Disgust</th>\n",
       "      <th>Fear</th>\n",
       "      <th>Joy</th>\n",
       "      <th>Negative</th>\n",
       "      <th>Pct_change</th>\n",
       "      <th>Positive</th>\n",
       "      <th>Sadness</th>\n",
       "      <th>Surprise</th>\n",
       "      <th>Trust</th>\n",
       "      <th>follower_count</th>\n",
       "    </tr>\n",
       "  </thead>\n",
       "  <tbody>\n",
       "    <tr>\n",
       "      <th>1</th>\n",
       "      <td>2016-06-15</td>\n",
       "      <td>0.001800</td>\n",
       "      <td>0.001800</td>\n",
       "      <td>0.000900</td>\n",
       "      <td>0.000000</td>\n",
       "      <td>0.009001</td>\n",
       "      <td>0.007692</td>\n",
       "      <td>0.004500</td>\n",
       "      <td>0.000000</td>\n",
       "      <td>0.001800</td>\n",
       "      <td>0.002700</td>\n",
       "      <td>212332.0</td>\n",
       "    </tr>\n",
       "    <tr>\n",
       "      <th>2</th>\n",
       "      <td>2016-06-14</td>\n",
       "      <td>0.007916</td>\n",
       "      <td>0.000609</td>\n",
       "      <td>0.001827</td>\n",
       "      <td>0.005074</td>\n",
       "      <td>0.008930</td>\n",
       "      <td>-0.000699</td>\n",
       "      <td>0.010757</td>\n",
       "      <td>0.002030</td>\n",
       "      <td>0.005277</td>\n",
       "      <td>0.009539</td>\n",
       "      <td>4413122.0</td>\n",
       "    </tr>\n",
       "    <tr>\n",
       "      <th>3</th>\n",
       "      <td>2016-06-13</td>\n",
       "      <td>0.012598</td>\n",
       "      <td>0.000900</td>\n",
       "      <td>0.005399</td>\n",
       "      <td>0.005174</td>\n",
       "      <td>0.006974</td>\n",
       "      <td>-0.008329</td>\n",
       "      <td>0.026772</td>\n",
       "      <td>0.002475</td>\n",
       "      <td>0.004274</td>\n",
       "      <td>0.016423</td>\n",
       "      <td>2652364.0</td>\n",
       "    </tr>\n",
       "    <tr>\n",
       "      <th>6</th>\n",
       "      <td>2016-06-10</td>\n",
       "      <td>0.010336</td>\n",
       "      <td>0.001723</td>\n",
       "      <td>0.003302</td>\n",
       "      <td>0.003445</td>\n",
       "      <td>0.006029</td>\n",
       "      <td>-0.001520</td>\n",
       "      <td>0.008613</td>\n",
       "      <td>0.003302</td>\n",
       "      <td>0.003302</td>\n",
       "      <td>0.005024</td>\n",
       "      <td>6054195.0</td>\n",
       "    </tr>\n",
       "    <tr>\n",
       "      <th>7</th>\n",
       "      <td>2016-06-07</td>\n",
       "      <td>0.003610</td>\n",
       "      <td>0.000000</td>\n",
       "      <td>0.000903</td>\n",
       "      <td>0.002708</td>\n",
       "      <td>0.005415</td>\n",
       "      <td>-0.007082</td>\n",
       "      <td>0.006318</td>\n",
       "      <td>0.000000</td>\n",
       "      <td>0.000000</td>\n",
       "      <td>0.007220</td>\n",
       "      <td>305868.0</td>\n",
       "    </tr>\n",
       "  </tbody>\n",
       "</table>\n",
       "</div>"
      ],
      "text/plain": [
       "         Date  Anticipation   Disgust      Fear       Joy  Negative  \\\n",
       "1  2016-06-15      0.001800  0.001800  0.000900  0.000000  0.009001   \n",
       "2  2016-06-14      0.007916  0.000609  0.001827  0.005074  0.008930   \n",
       "3  2016-06-13      0.012598  0.000900  0.005399  0.005174  0.006974   \n",
       "6  2016-06-10      0.010336  0.001723  0.003302  0.003445  0.006029   \n",
       "7  2016-06-07      0.003610  0.000000  0.000903  0.002708  0.005415   \n",
       "\n",
       "   Pct_change  Positive   Sadness  Surprise     Trust  follower_count  \n",
       "1    0.007692  0.004500  0.000000  0.001800  0.002700        212332.0  \n",
       "2   -0.000699  0.010757  0.002030  0.005277  0.009539       4413122.0  \n",
       "3   -0.008329  0.026772  0.002475  0.004274  0.016423       2652364.0  \n",
       "6   -0.001520  0.008613  0.003302  0.003302  0.005024       6054195.0  \n",
       "7   -0.007082  0.006318  0.000000  0.000000  0.007220        305868.0  "
      ]
     },
     "execution_count": 2,
     "metadata": {},
     "output_type": "execute_result"
    }
   ],
   "source": [
    "datafile = 'final_data.csv'\n",
    "df = pd.read_csv(datafile)\n",
    "df.rename(columns={'Unnamed: 0': 'Date'}, inplace=True) \n",
    "df = df[np.isfinite(df['Pct_change'])] #drop the data where pct_change is nan \n",
    "df.head()"
   ]
  },
  {
   "cell_type": "code",
   "execution_count": 3,
   "metadata": {},
   "outputs": [
    {
     "data": {
      "text/plain": [
       "53"
      ]
     },
     "execution_count": 3,
     "metadata": {},
     "output_type": "execute_result"
    }
   ],
   "source": [
    "#Since the data contains apple and google's data for the same period, we split them into 2 parts \n",
    "len(df.Date.unique())"
   ]
  },
  {
   "cell_type": "code",
   "execution_count": 4,
   "metadata": {},
   "outputs": [],
   "source": [
    "#df['Date'][0:48] # so 0-48 is the apple's data "
   ]
  },
  {
   "cell_type": "code",
   "execution_count": 7,
   "metadata": {},
   "outputs": [
    {
     "data": {
      "text/html": [
       "<iframe id=\"igraph\" scrolling=\"no\" style=\"border:none;\" seamless=\"seamless\" src=\"https://plot.ly/~cathy_xyy/38.embed\" height=\"525px\" width=\"100%\"></iframe>"
      ],
      "text/plain": [
       "<plotly.tools.PlotlyDisplay object>"
      ]
     },
     "execution_count": 7,
     "metadata": {},
     "output_type": "execute_result"
    }
   ],
   "source": [
    "#Plots the Pct_change vs the 8 sentiments for Apple\n",
    "\n",
    "trace0 = go.Scatter(\n",
    "    x = df['Date'][0:48],\n",
    "    y = df['Anticipation'],\n",
    "    mode = 'lines',\n",
    "    name = 'Anticipation'\n",
    ")\n",
    "trace1 = go.Scatter(\n",
    "    x = df['Date'][0:48],\n",
    "    y = df['Disgust'],\n",
    "    mode = 'lines',\n",
    "    name = 'Disgust'\n",
    ")\n",
    "trace2 = go.Scatter(\n",
    "    x = df['Date'][0:48],\n",
    "    y = df['Fear'],\n",
    "    mode = 'lines',\n",
    "    name = 'Fear'\n",
    ")\n",
    "trace3 = go.Scatter(\n",
    "    x = df['Date'][0:48],\n",
    "    y = df['Joy'],\n",
    "    mode = 'lines',\n",
    "    name = 'Joy'\n",
    ")\n",
    "trace4 = go.Scatter(\n",
    "    x = df['Date'][0:48],\n",
    "    y = df['Negative'],\n",
    "    mode = 'lines',\n",
    "    name = 'Negative'\n",
    ")\n",
    "trace5 = go.Scatter(\n",
    "    x = df['Date'][0:48],\n",
    "    y = df['Positive'],\n",
    "    mode = 'lines',\n",
    "    name = 'Positive'\n",
    ")\n",
    "trace6 = go.Scatter(\n",
    "    x = df['Date'][0:48],\n",
    "    y = df['Surprise'],\n",
    "    mode = 'lines',\n",
    "    name = 'Surprise'\n",
    ")\n",
    "trace7 = go.Scatter(\n",
    "    x = df['Date'][0:48],\n",
    "    y = df['Trust'],\n",
    "    mode = 'lines',\n",
    "    name = 'Trust'\n",
    ")\n",
    "data = [trace0, trace1, trace2, trace3, trace4, trace5, trace6, trace7]\n",
    "py.iplot(data)\n",
    "# Since the plots by 'plotly' cannot be shown in Github, \n",
    "#the plots are saved in a separated file called 'Data Visualization Results'"
   ]
  },
  {
   "cell_type": "code",
   "execution_count": 8,
   "metadata": {},
   "outputs": [
    {
     "data": {
      "text/html": [
       "<iframe id=\"igraph\" scrolling=\"no\" style=\"border:none;\" seamless=\"seamless\" src=\"https://plot.ly/~cathy_xyy/40.embed\" height=\"525px\" width=\"100%\"></iframe>"
      ],
      "text/plain": [
       "<plotly.tools.PlotlyDisplay object>"
      ]
     },
     "execution_count": 8,
     "metadata": {},
     "output_type": "execute_result"
    }
   ],
   "source": [
    "#Plots the Pct_change vs the 8 sentiments for Google\n",
    "trace0 = go.Scatter(\n",
    "    x = df['Date'][49:],\n",
    "    y = df['Anticipation'],\n",
    "    mode = 'lines',\n",
    "    name = 'Anticipation'\n",
    ")\n",
    "trace1 = go.Scatter(\n",
    "    x = df['Date'][49:],\n",
    "    y = df['Disgust'],\n",
    "    mode = 'lines',\n",
    "    name = 'Disgust'\n",
    ")\n",
    "trace2 = go.Scatter(\n",
    "    x = df['Date'][49:],\n",
    "    y = df['Fear'],\n",
    "    mode = 'lines',\n",
    "    name = 'Fear'\n",
    ")\n",
    "trace3 = go.Scatter(\n",
    "    x = df['Date'][49:],\n",
    "    y = df['Joy'],\n",
    "    mode = 'lines',\n",
    "    name = 'Joy'\n",
    ")\n",
    "trace4 = go.Scatter(\n",
    "    x = df['Date'][49:],\n",
    "    y = df['Negative'],\n",
    "    mode = 'lines',\n",
    "    name = 'Negative'\n",
    ")\n",
    "trace5 = go.Scatter(\n",
    "    x = df['Date'][49:],\n",
    "    y = df['Positive'],\n",
    "    mode = 'lines',\n",
    "    name = 'Positive'\n",
    ")\n",
    "trace6 = go.Scatter(\n",
    "    x = df['Date'][49:],\n",
    "    y = df['Surprise'],\n",
    "    mode = 'lines',\n",
    "    name = 'Surprise'\n",
    ")\n",
    "trace7 = go.Scatter(\n",
    "    x = df['Date'][49:],\n",
    "    y = df['Trust'],\n",
    "    mode = 'lines',\n",
    "    name = 'Trust'\n",
    ")\n",
    "data = [trace0, trace1, trace2, trace3, trace4, trace5, trace6, trace7]\n",
    "py.iplot(data)"
   ]
  },
  {
   "cell_type": "code",
   "execution_count": 9,
   "metadata": {},
   "outputs": [
    {
     "data": {
      "text/html": [
       "<iframe id=\"igraph\" scrolling=\"no\" style=\"border:none;\" seamless=\"seamless\" src=\"https://plot.ly/~cathy_xyy/42.embed\" height=\"525px\" width=\"100%\"></iframe>"
      ],
      "text/plain": [
       "<plotly.tools.PlotlyDisplay object>"
      ]
     },
     "execution_count": 9,
     "metadata": {},
     "output_type": "execute_result"
    }
   ],
   "source": [
    "# The plot of Pct_change over time for Apple & Google \n",
    "trace0 = go.Scatter(\n",
    "    x = df['Date'][0:48],\n",
    "    y = df['Pct_change'],\n",
    "    mode = 'lines',\n",
    "    name = 'Pct_change_Apple'\n",
    ")\n",
    "trace1 = go.Scatter(\n",
    "    x = df['Date'][49:],\n",
    "    y = df['Pct_change'],\n",
    "    mode = 'lines',\n",
    "    name = 'Pct_change_Google'\n",
    ")\n",
    "data = [trace0, trace1]\n",
    "\n",
    "py.iplot(data)"
   ]
  },
  {
   "cell_type": "code",
   "execution_count": null,
   "metadata": {},
   "outputs": [],
   "source": []
  }
 ],
 "metadata": {
  "kernelspec": {
   "display_name": "Python 3",
   "language": "python",
   "name": "python3"
  },
  "language_info": {
   "codemirror_mode": {
    "name": "ipython",
    "version": 3
   },
   "file_extension": ".py",
   "mimetype": "text/x-python",
   "name": "python",
   "nbconvert_exporter": "python",
   "pygments_lexer": "ipython3",
   "version": "3.6.5"
  }
 },
 "nbformat": 4,
 "nbformat_minor": 2
}
