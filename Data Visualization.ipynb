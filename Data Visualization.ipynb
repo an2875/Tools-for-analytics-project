{
 "cells": [
  {
   "cell_type": "code",
   "execution_count": 1,
   "metadata": {},
   "outputs": [],
   "source": [
    "import numpy as np\n",
    "import pandas as pd\n",
    "import plotly.plotly as py\n",
    "import plotly.graph_objs as go\n",
    "# use 'plotly' to get graphs, 'plotly' is an online plotting tool."
   ]
  },
  {
   "cell_type": "code",
   "execution_count": 2,
   "metadata": {},
   "outputs": [
    {
     "data": {
      "text/html": [
       "<div>\n",
       "<style scoped>\n",
       "    .dataframe tbody tr th:only-of-type {\n",
       "        vertical-align: middle;\n",
       "    }\n",
       "\n",
       "    .dataframe tbody tr th {\n",
       "        vertical-align: top;\n",
       "    }\n",
       "\n",
       "    .dataframe thead th {\n",
       "        text-align: right;\n",
       "    }\n",
       "</style>\n",
       "<table border=\"1\" class=\"dataframe\">\n",
       "  <thead>\n",
       "    <tr style=\"text-align: right;\">\n",
       "      <th></th>\n",
       "      <th>Date</th>\n",
       "      <th>Anticipation</th>\n",
       "      <th>Disgust</th>\n",
       "      <th>Fear</th>\n",
       "      <th>Joy</th>\n",
       "      <th>Negative</th>\n",
       "      <th>Positive</th>\n",
       "      <th>Sadness</th>\n",
       "      <th>Surprise</th>\n",
       "      <th>Trust</th>\n",
       "      <th>follower_count</th>\n",
       "      <th>Pct_change</th>\n",
       "    </tr>\n",
       "  </thead>\n",
       "  <tbody>\n",
       "    <tr>\n",
       "      <th>0</th>\n",
       "      <td>2016-06-15</td>\n",
       "      <td>0.006228</td>\n",
       "      <td>0.001465</td>\n",
       "      <td>0.002931</td>\n",
       "      <td>0.001465</td>\n",
       "      <td>0.005251</td>\n",
       "      <td>0.009647</td>\n",
       "      <td>0.003419</td>\n",
       "      <td>0.001221</td>\n",
       "      <td>0.005129</td>\n",
       "      <td>2947684</td>\n",
       "      <td>0.005138</td>\n",
       "    </tr>\n",
       "    <tr>\n",
       "      <th>1</th>\n",
       "      <td>2016-06-14</td>\n",
       "      <td>0.008983</td>\n",
       "      <td>0.000876</td>\n",
       "      <td>0.005916</td>\n",
       "      <td>0.003944</td>\n",
       "      <td>0.006792</td>\n",
       "      <td>0.022349</td>\n",
       "      <td>0.003944</td>\n",
       "      <td>0.003067</td>\n",
       "      <td>0.007011</td>\n",
       "      <td>3026367</td>\n",
       "      <td>-0.013882</td>\n",
       "    </tr>\n",
       "    <tr>\n",
       "      <th>2</th>\n",
       "      <td>2016-06-07</td>\n",
       "      <td>0.010428</td>\n",
       "      <td>0.001259</td>\n",
       "      <td>0.003955</td>\n",
       "      <td>0.001618</td>\n",
       "      <td>0.006832</td>\n",
       "      <td>0.010787</td>\n",
       "      <td>0.001978</td>\n",
       "      <td>0.001259</td>\n",
       "      <td>0.008270</td>\n",
       "      <td>1530620</td>\n",
       "      <td>0.012858</td>\n",
       "    </tr>\n",
       "    <tr>\n",
       "      <th>3</th>\n",
       "      <td>2016-06-06</td>\n",
       "      <td>0.005579</td>\n",
       "      <td>0.001064</td>\n",
       "      <td>0.003640</td>\n",
       "      <td>0.003144</td>\n",
       "      <td>0.005720</td>\n",
       "      <td>0.007848</td>\n",
       "      <td>0.002742</td>\n",
       "      <td>0.002175</td>\n",
       "      <td>0.005886</td>\n",
       "      <td>15696585</td>\n",
       "      <td>0.002045</td>\n",
       "    </tr>\n",
       "    <tr>\n",
       "      <th>6</th>\n",
       "      <td>2016-06-03</td>\n",
       "      <td>0.009411</td>\n",
       "      <td>0.001520</td>\n",
       "      <td>0.002943</td>\n",
       "      <td>0.003848</td>\n",
       "      <td>0.007567</td>\n",
       "      <td>0.014100</td>\n",
       "      <td>0.002781</td>\n",
       "      <td>0.003105</td>\n",
       "      <td>0.008764</td>\n",
       "      <td>15253049</td>\n",
       "      <td>0.001947</td>\n",
       "    </tr>\n",
       "  </tbody>\n",
       "</table>\n",
       "</div>"
      ],
      "text/plain": [
       "         Date  Anticipation   Disgust      Fear       Joy  Negative  Positive  \\\n",
       "0  2016-06-15      0.006228  0.001465  0.002931  0.001465  0.005251  0.009647   \n",
       "1  2016-06-14      0.008983  0.000876  0.005916  0.003944  0.006792  0.022349   \n",
       "2  2016-06-07      0.010428  0.001259  0.003955  0.001618  0.006832  0.010787   \n",
       "3  2016-06-06      0.005579  0.001064  0.003640  0.003144  0.005720  0.007848   \n",
       "6  2016-06-03      0.009411  0.001520  0.002943  0.003848  0.007567  0.014100   \n",
       "\n",
       "    Sadness  Surprise     Trust  follower_count  Pct_change  \n",
       "0  0.003419  0.001221  0.005129         2947684    0.005138  \n",
       "1  0.003944  0.003067  0.007011         3026367   -0.013882  \n",
       "2  0.001978  0.001259  0.008270         1530620    0.012858  \n",
       "3  0.002742  0.002175  0.005886        15696585    0.002045  \n",
       "6  0.002781  0.003105  0.008764        15253049    0.001947  "
      ]
     },
     "execution_count": 2,
     "metadata": {},
     "output_type": "execute_result"
    }
   ],
   "source": [
    "datafile = 'final_data.csv'\n",
    "df = pd.read_csv(datafile)\n",
    "df.rename(columns={'Unnamed: 0': 'Date'}, inplace=True) \n",
    "df = df[np.isfinite(df['Pct_change'])] #drop the data where pct_change is nan \n",
    "df.head()"
   ]
  },
  {
   "cell_type": "code",
   "execution_count": 3,
   "metadata": {},
   "outputs": [
    {
     "data": {
      "text/plain": [
       "53"
      ]
     },
     "execution_count": 3,
     "metadata": {},
     "output_type": "execute_result"
    }
   ],
   "source": [
    "#Since the data contains apple and google's data for the same period, we split them into 2 parts \n",
    "len(df.Date.unique())"
   ]
  },
  {
   "cell_type": "code",
   "execution_count": 5,
   "metadata": {},
   "outputs": [],
   "source": [
    "#df['Date'][0:48] # so 0-48 is the apple's data "
   ]
  },
  {
   "cell_type": "code",
   "execution_count": 12,
   "metadata": {},
   "outputs": [
    {
     "ename": "SyntaxError",
     "evalue": "invalid syntax (<ipython-input-12-ea57892f5f59>, line 72)",
     "output_type": "error",
     "traceback": [
      "\u001b[0;36m  File \u001b[0;32m\"<ipython-input-12-ea57892f5f59>\"\u001b[0;36m, line \u001b[0;32m72\u001b[0m\n\u001b[0;31m    fig=go.Figure(data=data, layout=layout)\u001b[0m\n\u001b[0m      ^\u001b[0m\n\u001b[0;31mSyntaxError\u001b[0m\u001b[0;31m:\u001b[0m invalid syntax\n"
     ]
    }
   ],
   "source": [
    "#Plots the Pct_change vs the 8 emotions \n",
    "import plotly.plotly as py\n",
    "import plotly.graph_objs as go\n",
    "\n",
    "trace0 = go.Scatter(\n",
    "    x = df['Date'][0:48],\n",
    "    y = df['Anticipation'],\n",
    "    mode = 'lines',\n",
    "    name = 'Anticipation'\n",
    ")\n",
    "trace1 = go.Scatter(\n",
    "    x = df['Date'][0:48],\n",
    "    y = df['Disgust'],\n",
    "    mode = 'lines',\n",
    "    name = 'Disgust'\n",
    ")\n",
    "trace2 = go.Scatter(\n",
    "    x = df['Date'][0:48],\n",
    "    y = df['Fear'],\n",
    "    mode = 'lines',\n",
    "    name = 'Fear'\n",
    ")\n",
    "trace3 = go.Scatter(\n",
    "    x = df['Date'][0:48],\n",
    "    y = df['Joy'],\n",
    "    mode = 'lines',\n",
    "    name = 'Joy'\n",
    ")\n",
    "trace4 = go.Scatter(\n",
    "    x = df['Date'][0:48],\n",
    "    y = df['Negative'],\n",
    "    mode = 'lines',\n",
    "    name = 'Negative'\n",
    ")\n",
    "trace5 = go.Scatter(\n",
    "    x = df['Date'][0:48],\n",
    "    y = df['Positive'],\n",
    "    mode = 'lines',\n",
    "    name = 'Positive'\n",
    ")\n",
    "trace6 = go.Scatter(\n",
    "    x = df['Date'][0:48],\n",
    "    y = df['Surprise'],\n",
    "    mode = 'lines',\n",
    "    name = 'Surprise'\n",
    ")\n",
    "trace7 = go.Scatter(\n",
    "    x = df['Date'][0:48],\n",
    "    y = df['Trust'],\n",
    "    mode = 'lines',\n",
    "    name = 'Trust'\n",
    ")\n",
    "data = [trace0, trace1, trace2, trace3, trace4, trace5, trace6, trace7]\n",
    "\n",
    "# Since the plots by 'plotly' cannot be shown in Github, the plots are saved in a separated file called 'Plots'\n",
    "layout = go.Layout(\n",
    "    title='Pct_change over time For 8 Emotions',\n",
    "    #autosize=False,\n",
    "    #scene=dict(camera=dict(eye=dict(x=1.87, y=0.88, z=-0.64))),\n",
    "    #width=500,\n",
    "    #height=500,\n",
    "    scene=go.Scene(\n",
    "        xaxis=go.XAxis(title='Date'),\n",
    "        yaxis=go.YAxis(title='Pct_change'),\n",
    "     margin=dict(\n",
    "        l=65,\n",
    "        r=50,\n",
    "        b=65,\n",
    "        t=90\n",
    "    )\n",
    "    )\n",
    "fig=go.Figure(data=data, layout=layout)\n",
    "py.iplot(fig, filename='Pct_change over time for 8 Emotions')"
   ]
  },
  {
   "cell_type": "code",
   "execution_count": 59,
   "metadata": {},
   "outputs": [
    {
     "data": {
      "text/html": [
       "<iframe id=\"igraph\" scrolling=\"no\" style=\"border:none;\" seamless=\"seamless\" src=\"https://plot.ly/~cathy_xyy/10.embed\" height=\"525px\" width=\"100%\"></iframe>"
      ],
      "text/plain": [
       "<plotly.tools.PlotlyDisplay object>"
      ]
     },
     "execution_count": 59,
     "metadata": {},
     "output_type": "execute_result"
    }
   ],
   "source": [
    "# The plot of Pct_change over time for Apple & Google \n",
    "trace0 = go.Scatter(\n",
    "    x = df['Date'][0:48],\n",
    "    y = df['Pct_change'],\n",
    "    mode = 'lines',\n",
    "    name = 'Pct_change_Apple'\n",
    ")\n",
    "trace1 = go.Scatter(\n",
    "    x = df['Date'][49:],\n",
    "    y = df['Pct_change'],\n",
    "    mode = 'lines',\n",
    "    name = 'Pct_change_Google'\n",
    ")\n",
    "data = [trace0, trace1]\n",
    "\n",
    "py.iplot(data, filename='line-mode')"
   ]
  },
  {
   "cell_type": "code",
   "execution_count": 63,
   "metadata": {},
   "outputs": [
    {
     "data": {
      "text/html": [
       "<iframe id=\"igraph\" scrolling=\"no\" style=\"border:none;\" seamless=\"seamless\" src=\"https://plot.ly/~cathy_xyy/8.embed\" height=\"525px\" width=\"100%\"></iframe>"
      ],
      "text/plain": [
       "<plotly.tools.PlotlyDisplay object>"
      ]
     },
     "execution_count": 63,
     "metadata": {},
     "output_type": "execute_result"
    }
   ],
   "source": [
    "#Scatter plots of Pct_change vs 8 emotions \n",
    "trace0 = go.Scatter(\n",
    "    x = df['Pct_change'],\n",
    "    y = df['Anticipation'],\n",
    "    mode = 'markers',\n",
    "    name = 'Anticipation'\n",
    ")\n",
    "trace1 = go.Scatter(\n",
    "    x = df['Pct_change'],\n",
    "    y = df['Disgust'],\n",
    "    mode = 'markers',\n",
    "    name = 'Disgust'\n",
    ")\n",
    "trace2 = go.Scatter(\n",
    "    x = df['Pct_change'],\n",
    "    y = df['Fear'],\n",
    "    mode = 'markers',\n",
    "    name = 'Fear'\n",
    ")\n",
    "trace3 = go.Scatter(\n",
    "    x = df['Pct_change'],\n",
    "    y = df['Joy'],\n",
    "    mode = 'markers',\n",
    "    name = 'Joy'\n",
    ")\n",
    "data = [trace0, trace1, trace2, trace3]\n",
    "py.iplot(data, filename='scatter-mode')"
   ]
  },
  {
   "cell_type": "code",
   "execution_count": 61,
   "metadata": {},
   "outputs": [
    {
     "data": {
      "text/html": [
       "<iframe id=\"igraph\" scrolling=\"no\" style=\"border:none;\" seamless=\"seamless\" src=\"https://plot.ly/~cathy_xyy/8.embed\" height=\"525px\" width=\"100%\"></iframe>"
      ],
      "text/plain": [
       "<plotly.tools.PlotlyDisplay object>"
      ]
     },
     "execution_count": 61,
     "metadata": {},
     "output_type": "execute_result"
    }
   ],
   "source": [
    "trace0 = go.Scatter(\n",
    "    x = df['Pct_change'],\n",
    "    y = df['Negative'],\n",
    "    mode = 'markers',\n",
    "    name = 'Negative'\n",
    ")\n",
    "trace1 = go.Scatter(\n",
    "    x = df['Pct_change'],\n",
    "    y = df['Positive'],\n",
    "    mode = 'markers',\n",
    "    name = 'Positive'\n",
    ")\n",
    "\n",
    "data = [trace0, trace1]\n",
    "py.iplot(data, filename='scatter-mode')"
   ]
  },
  {
   "cell_type": "code",
   "execution_count": 62,
   "metadata": {},
   "outputs": [
    {
     "data": {
      "text/html": [
       "<iframe id=\"igraph\" scrolling=\"no\" style=\"border:none;\" seamless=\"seamless\" src=\"https://plot.ly/~cathy_xyy/8.embed\" height=\"525px\" width=\"100%\"></iframe>"
      ],
      "text/plain": [
       "<plotly.tools.PlotlyDisplay object>"
      ]
     },
     "execution_count": 62,
     "metadata": {},
     "output_type": "execute_result"
    }
   ],
   "source": [
    "trace0 = go.Scatter(\n",
    "    x = df['Pct_change'],\n",
    "    y = df['Sadness'],\n",
    "    mode = 'markers',\n",
    "    name = 'Sadness'\n",
    ")\n",
    "trace1 = go.Scatter(\n",
    "    x = df['Pct_change'],\n",
    "    y = df['Surprise'],\n",
    "    mode = 'markers',\n",
    "    name = 'Surprise'\n",
    ")\n",
    "trace2 = go.Scatter(\n",
    "    x = df['Pct_change'],\n",
    "    y = df['Trust'],\n",
    "    mode = 'markers',\n",
    "    name = 'Trust'\n",
    ")\n",
    "\n",
    "data = [trace0, trace1, trace2]\n",
    "py.iplot(data, filename='scatter-mode')"
   ]
  },
  {
   "cell_type": "code",
   "execution_count": null,
   "metadata": {},
   "outputs": [],
   "source": []
  }
 ],
 "metadata": {
  "kernelspec": {
   "display_name": "Python 3",
   "language": "python",
   "name": "python3"
  },
  "language_info": {
   "codemirror_mode": {
    "name": "ipython",
    "version": 3
   },
   "file_extension": ".py",
   "mimetype": "text/x-python",
   "name": "python",
   "nbconvert_exporter": "python",
   "pygments_lexer": "ipython3",
   "version": "3.6.5"
  }
 },
 "nbformat": 4,
 "nbformat_minor": 2
}
