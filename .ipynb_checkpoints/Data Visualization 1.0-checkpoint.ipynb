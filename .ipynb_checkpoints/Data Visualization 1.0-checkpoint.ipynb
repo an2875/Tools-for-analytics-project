{
 "cells": [
  {
   "cell_type": "code",
   "execution_count": 14,
   "metadata": {},
   "outputs": [],
   "source": [
    "# from pandas_datareader import data as web\n",
    "# import numpy as np\n",
    "# import pandas as pd\n",
    "# import datetime\n",
    "# import matplotlib.pyplot as plt \n",
    "# from matplotlib.pyplot import figure\n",
    "# %matplotlib inline"
   ]
  },
  {
   "cell_type": "code",
   "execution_count": 15,
   "metadata": {},
   "outputs": [],
   "source": [
    "# datafile = 'final_data.csv'\n",
    "# df = pd.read_csv(datafile)\n",
    "# df.rename(columns={'Unnamed: 0': 'Date'}, inplace=True)\n",
    "# df = df[np.isfinite(df['Pct_change'])]\n",
    "# df.head()"
   ]
  },
  {
   "cell_type": "code",
   "execution_count": 16,
   "metadata": {},
   "outputs": [],
   "source": [
    "# df.plot(x='Date', y= 'Disgust',figsize=(12, 8),color=\"r\")  \n",
    "# plt.show()"
   ]
  },
  {
   "cell_type": "code",
   "execution_count": 17,
   "metadata": {},
   "outputs": [],
   "source": [
    "# df.plot(x='Date', y= 'Fear',figsize=(12, 8),color=\"r\")  \n",
    "# plt.show()"
   ]
  },
  {
   "cell_type": "code",
   "execution_count": 18,
   "metadata": {},
   "outputs": [],
   "source": [
    "# df.plot(x='Date', y= 'Negative',figsize=(12, 8),color=\"r\")  \n",
    "# plt.show()"
   ]
  },
  {
   "cell_type": "code",
   "execution_count": 19,
   "metadata": {},
   "outputs": [],
   "source": [
    "# df.plot(x='Date', y= 'Sadness',figsize=(12, 8),color=\"r\")  \n",
    "# plt.show()"
   ]
  },
  {
   "cell_type": "code",
   "execution_count": 20,
   "metadata": {},
   "outputs": [],
   "source": [
    "# df.plot(x='Date', y= 'Anticipation',figsize=(12, 8),color=\"b\")  \n",
    "# plt.show()"
   ]
  },
  {
   "cell_type": "code",
   "execution_count": 21,
   "metadata": {},
   "outputs": [],
   "source": [
    "# df.plot(x='Date', y= 'Joy',figsize=(12, 8),color=\"b\")  \n",
    "# plt.show()"
   ]
  },
  {
   "cell_type": "code",
   "execution_count": 22,
   "metadata": {},
   "outputs": [],
   "source": [
    "# df.plot(x='Date', y= 'Positive',figsize=(12, 8),color=\"b\")  \n",
    "# plt.show()"
   ]
  },
  {
   "cell_type": "code",
   "execution_count": 23,
   "metadata": {},
   "outputs": [],
   "source": [
    "# df.plot(x='Date', y= 'Surprise',figsize=(12, 8),color=\"b\")  \n",
    "# plt.show()"
   ]
  },
  {
   "cell_type": "code",
   "execution_count": 24,
   "metadata": {},
   "outputs": [],
   "source": [
    "# df.plot(x='Date', y= 'Trust',figsize=(12, 8),color=\"b\")  \n",
    "# plt.show()"
   ]
  },
  {
   "cell_type": "code",
   "execution_count": 25,
   "metadata": {},
   "outputs": [],
   "source": [
    "# These are the original data visualization graphs to compare 8 emotions as time goes by. \n",
    "# But we realized we may use plotly to incorporate these graphs into one graph to simplify the code.\n",
    "# Hence, we commented out those codes. "
   ]
  },
  {
   "cell_type": "code",
   "execution_count": null,
   "metadata": {},
   "outputs": [],
   "source": []
  }
 ],
 "metadata": {
  "kernelspec": {
   "display_name": "Python 3",
   "language": "python",
   "name": "python3"
  },
  "language_info": {
   "codemirror_mode": {
    "name": "ipython",
    "version": 3
   },
   "file_extension": ".py",
   "mimetype": "text/x-python",
   "name": "python",
   "nbconvert_exporter": "python",
   "pygments_lexer": "ipython3",
   "version": "3.6.5"
  }
 },
 "nbformat": 4,
 "nbformat_minor": 2
}
