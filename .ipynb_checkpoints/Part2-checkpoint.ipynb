{
 "cells": [
  {
   "cell_type": "code",
   "execution_count": 14,
   "metadata": {},
   "outputs": [],
   "source": [
    "# consumer_key='Z3qTnBcOFSAJ0U4o4AHNyxUaR'\n",
    "# consumer_secret='QAKH1iUeD9vzoHyUxw8phQVWdYfPD9L8VICj4rzLrWS64iq5zR'\n",
    "# access_token='1064529852555030528-CWSgrywOvLZzOq0uEsyVdUtPOY9XBX'\n",
    "# access_token_secret='YN5iSpuLiIaCdAZrJxXm2YezQmxCyKN3nG8hltttYAEt6'"
   ]
  },
  {
   "cell_type": "code",
   "execution_count": 15,
   "metadata": {},
   "outputs": [],
   "source": [
    "# import tweepy\n",
    "# auth = tweepy.OAuthHandler(consumer_key, consumer_secret)\n",
    "# auth.set_access_token(access_token, access_token_secret)\n",
    "# api = tweepy.API(auth)\n",
    "# search_term = 'AAPL'\n",
    "# ## fill in your search query and store your results in a variable\n",
    "# results = api.search(q = search_term, lang = \"en\", result_type = \"recent\", count = 2000)"
   ]
  },
  {
   "cell_type": "code",
   "execution_count": null,
   "metadata": {},
   "outputs": [],
   "source": [
    "# print(type(results))\n",
    "# print(len(results))\n",
    "# print(type(results[0]))"
   ]
  },
  {
   "cell_type": "code",
   "execution_count": null,
   "metadata": {},
   "outputs": [],
   "source": [
    "# search_term = 'AAPL'\n",
    "# for i in range(len(results)):\n",
    "#     fname = search_term+'.'+str(len(results)-i)\n",
    "#     with open('C:/Users/Dipanshu Gurwara/Desktop/New folder/tweets/'+fname,'w',encoding=\"utf-8\") as f:\n",
    "#         f.write(results[i]._json['text']+'\\n')"
   ]
  },
  {
   "cell_type": "code",
   "execution_count": null,
   "metadata": {},
   "outputs": [],
   "source": [
    "# # Now we do sentiment analysis on these tweets \n",
    "# from nltk.corpus import PlaintextCorpusReader\n",
    "# apple_data = PlaintextCorpusReader('C:/Users/Dipanshu Gurwara/Desktop/New folder/tweets/','AAPL.*')\n",
    "# apple_data.raw()"
   ]
  },
  {
   "cell_type": "code",
   "execution_count": null,
   "metadata": {},
   "outputs": [],
   "source": [
    "# def get_nrc_data():\n",
    "#     nrc = \"C:/Users/Dipanshu Gurwara/Desktop/New folder/NRC-emotion-lexicon-wordlevel-alphabetized-v0.92.txt\"\n",
    "#     count=0\n",
    "#     emotion_dict=dict()\n",
    "#     with open(nrc,'r') as f:\n",
    "#         all_lines = list()\n",
    "#         for line in f:\n",
    "#             if count < 46:\n",
    "#                 count+=1\n",
    "#                 continue\n",
    "#             line = line.strip().split('\\t')\n",
    "#             if int(line[2]) == 1:\n",
    "#                 if emotion_dict.get(line[0]):\n",
    "#                     emotion_dict[line[0]].append(line[1])\n",
    "#                 else:\n",
    "#                     emotion_dict[line[0]] = [line[1]]\n",
    "#     return emotion_dict"
   ]
  },
  {
   "cell_type": "code",
   "execution_count": 1,
   "metadata": {},
   "outputs": [],
   "source": [
    "# we will not be using this code, as we are working with historical twitter dataset, and we do not need the current 'n' number of tweets"
   ]
  },
  {
   "cell_type": "code",
   "execution_count": null,
   "metadata": {},
   "outputs": [],
   "source": []
  }
 ],
 "metadata": {
  "kernelspec": {
   "display_name": "Python 3",
   "language": "python",
   "name": "python3"
  },
  "language_info": {
   "codemirror_mode": {
    "name": "ipython",
    "version": 3
   },
   "file_extension": ".py",
   "mimetype": "text/x-python",
   "name": "python",
   "nbconvert_exporter": "python",
   "pygments_lexer": "ipython3",
   "version": "3.7.0"
  }
 },
 "nbformat": 4,
 "nbformat_minor": 2
}
