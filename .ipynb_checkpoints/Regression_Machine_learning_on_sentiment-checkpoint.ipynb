{
 "cells": [
  {
   "cell_type": "code",
   "execution_count": 2,
   "metadata": {},
   "outputs": [],
   "source": [
    "import csv\n",
    "import pandas as pd\n",
    "import numpy as np"
   ]
  },
  {
   "cell_type": "code",
   "execution_count": 3,
   "metadata": {},
   "outputs": [],
   "source": [
    "df = pd.read_csv('final_data.csv')\n",
    "#reads the values of the sentiment and loads into df"
   ]
  },
  {
   "cell_type": "code",
   "execution_count": 4,
   "metadata": {},
   "outputs": [],
   "source": [
    "df = df.dropna()\n",
    "df = df.set_index(['Unnamed: 0'])"
   ]
  },
  {
   "cell_type": "code",
   "execution_count": 5,
   "metadata": {},
   "outputs": [],
   "source": [
    "df['follower_count'] = df['follower_count'] / 1000000"
   ]
  },
  {
   "cell_type": "code",
   "execution_count": 6,
   "metadata": {},
   "outputs": [],
   "source": [
    "#To normalize the values\n",
    "df['Positive'] = df['Positive'] * 1000\n",
    "df['Negative'] = df['Negative'] * 1000\n",
    "df['Anticipation'] = df['Anticipation'] * 1000\n",
    "df['Disgust'] = df['Disgust'] * 1000\n",
    "df['Fear'] = df['Fear'] * 1000\n",
    "df['Joy'] = df['Joy'] * 1000\n",
    "df['Sadness'] = df['Sadness'] * 1000\n",
    "df['Surprise'] = df['Surprise'] * 1000\n",
    "df['Trust'] = df['Trust'] * 1000"
   ]
  },
  {
   "cell_type": "code",
   "execution_count": 7,
   "metadata": {},
   "outputs": [
    {
     "data": {
      "text/html": [
       "<div>\n",
       "<style scoped>\n",
       "    .dataframe tbody tr th:only-of-type {\n",
       "        vertical-align: middle;\n",
       "    }\n",
       "\n",
       "    .dataframe tbody tr th {\n",
       "        vertical-align: top;\n",
       "    }\n",
       "\n",
       "    .dataframe thead th {\n",
       "        text-align: right;\n",
       "    }\n",
       "</style>\n",
       "<table border=\"1\" class=\"dataframe\">\n",
       "  <thead>\n",
       "    <tr style=\"text-align: right;\">\n",
       "      <th></th>\n",
       "      <th>Anticipation</th>\n",
       "      <th>Disgust</th>\n",
       "      <th>Fear</th>\n",
       "      <th>Joy</th>\n",
       "      <th>Negative</th>\n",
       "      <th>Positive</th>\n",
       "      <th>Sadness</th>\n",
       "      <th>Surprise</th>\n",
       "      <th>Trust</th>\n",
       "      <th>follower_count</th>\n",
       "      <th>Pct_change</th>\n",
       "    </tr>\n",
       "  </thead>\n",
       "  <tbody>\n",
       "    <tr>\n",
       "      <th>count</th>\n",
       "      <td>101.000000</td>\n",
       "      <td>101.000000</td>\n",
       "      <td>101.000000</td>\n",
       "      <td>101.000000</td>\n",
       "      <td>101.000000</td>\n",
       "      <td>101.000000</td>\n",
       "      <td>101.000000</td>\n",
       "      <td>101.000000</td>\n",
       "      <td>101.000000</td>\n",
       "      <td>101.000000</td>\n",
       "      <td>101.000000</td>\n",
       "    </tr>\n",
       "    <tr>\n",
       "      <th>mean</th>\n",
       "      <td>10.488975</td>\n",
       "      <td>1.702832</td>\n",
       "      <td>4.964858</td>\n",
       "      <td>4.616569</td>\n",
       "      <td>9.353808</td>\n",
       "      <td>13.891621</td>\n",
       "      <td>3.940987</td>\n",
       "      <td>3.652298</td>\n",
       "      <td>9.813697</td>\n",
       "      <td>14.140550</td>\n",
       "      <td>-0.001188</td>\n",
       "    </tr>\n",
       "    <tr>\n",
       "      <th>std</th>\n",
       "      <td>3.206982</td>\n",
       "      <td>1.016819</td>\n",
       "      <td>2.088546</td>\n",
       "      <td>1.988888</td>\n",
       "      <td>3.197049</td>\n",
       "      <td>4.711806</td>\n",
       "      <td>1.887132</td>\n",
       "      <td>1.503773</td>\n",
       "      <td>3.778724</td>\n",
       "      <td>22.197178</td>\n",
       "      <td>0.014607</td>\n",
       "    </tr>\n",
       "    <tr>\n",
       "      <th>min</th>\n",
       "      <td>1.800180</td>\n",
       "      <td>0.000000</td>\n",
       "      <td>0.900090</td>\n",
       "      <td>0.000000</td>\n",
       "      <td>4.004577</td>\n",
       "      <td>4.500450</td>\n",
       "      <td>0.000000</td>\n",
       "      <td>0.000000</td>\n",
       "      <td>2.700270</td>\n",
       "      <td>0.212332</td>\n",
       "      <td>-0.076124</td>\n",
       "    </tr>\n",
       "    <tr>\n",
       "      <th>25%</th>\n",
       "      <td>8.661417</td>\n",
       "      <td>1.003512</td>\n",
       "      <td>3.613207</td>\n",
       "      <td>3.364279</td>\n",
       "      <td>6.974128</td>\n",
       "      <td>11.125802</td>\n",
       "      <td>2.595839</td>\n",
       "      <td>2.631579</td>\n",
       "      <td>7.580274</td>\n",
       "      <td>4.112753</td>\n",
       "      <td>-0.008042</td>\n",
       "    </tr>\n",
       "    <tr>\n",
       "      <th>50%</th>\n",
       "      <td>10.335917</td>\n",
       "      <td>1.578947</td>\n",
       "      <td>4.850309</td>\n",
       "      <td>4.529136</td>\n",
       "      <td>8.902541</td>\n",
       "      <td>13.502898</td>\n",
       "      <td>3.627570</td>\n",
       "      <td>3.500583</td>\n",
       "      <td>9.493964</td>\n",
       "      <td>7.756158</td>\n",
       "      <td>-0.000095</td>\n",
       "    </tr>\n",
       "    <tr>\n",
       "      <th>75%</th>\n",
       "      <td>12.350371</td>\n",
       "      <td>2.104458</td>\n",
       "      <td>6.048048</td>\n",
       "      <td>5.504010</td>\n",
       "      <td>11.071289</td>\n",
       "      <td>16.488072</td>\n",
       "      <td>4.822561</td>\n",
       "      <td>4.508373</td>\n",
       "      <td>11.059934</td>\n",
       "      <td>17.318253</td>\n",
       "      <td>0.007565</td>\n",
       "    </tr>\n",
       "    <tr>\n",
       "      <th>max</th>\n",
       "      <td>22.809998</td>\n",
       "      <td>5.452320</td>\n",
       "      <td>14.874915</td>\n",
       "      <td>10.998945</td>\n",
       "      <td>20.607858</td>\n",
       "      <td>36.200405</td>\n",
       "      <td>10.229800</td>\n",
       "      <td>10.546934</td>\n",
       "      <td>33.593976</td>\n",
       "      <td>181.115430</td>\n",
       "      <td>0.026556</td>\n",
       "    </tr>\n",
       "  </tbody>\n",
       "</table>\n",
       "</div>"
      ],
      "text/plain": [
       "       Anticipation     Disgust        Fear         Joy    Negative  \\\n",
       "count    101.000000  101.000000  101.000000  101.000000  101.000000   \n",
       "mean      10.488975    1.702832    4.964858    4.616569    9.353808   \n",
       "std        3.206982    1.016819    2.088546    1.988888    3.197049   \n",
       "min        1.800180    0.000000    0.900090    0.000000    4.004577   \n",
       "25%        8.661417    1.003512    3.613207    3.364279    6.974128   \n",
       "50%       10.335917    1.578947    4.850309    4.529136    8.902541   \n",
       "75%       12.350371    2.104458    6.048048    5.504010   11.071289   \n",
       "max       22.809998    5.452320   14.874915   10.998945   20.607858   \n",
       "\n",
       "         Positive     Sadness    Surprise       Trust  follower_count  \\\n",
       "count  101.000000  101.000000  101.000000  101.000000      101.000000   \n",
       "mean    13.891621    3.940987    3.652298    9.813697       14.140550   \n",
       "std      4.711806    1.887132    1.503773    3.778724       22.197178   \n",
       "min      4.500450    0.000000    0.000000    2.700270        0.212332   \n",
       "25%     11.125802    2.595839    2.631579    7.580274        4.112753   \n",
       "50%     13.502898    3.627570    3.500583    9.493964        7.756158   \n",
       "75%     16.488072    4.822561    4.508373   11.059934       17.318253   \n",
       "max     36.200405   10.229800   10.546934   33.593976      181.115430   \n",
       "\n",
       "       Pct_change  \n",
       "count  101.000000  \n",
       "mean    -0.001188  \n",
       "std      0.014607  \n",
       "min     -0.076124  \n",
       "25%     -0.008042  \n",
       "50%     -0.000095  \n",
       "75%      0.007565  \n",
       "max      0.026556  "
      ]
     },
     "execution_count": 7,
     "metadata": {},
     "output_type": "execute_result"
    }
   ],
   "source": [
    "pd.options.display.max_columns = 11\n",
    "df.describe()"
   ]
  },
  {
   "cell_type": "code",
   "execution_count": 8,
   "metadata": {},
   "outputs": [],
   "source": [
    "#here is a brief description of the dataset after scaling and adjusting for the parameters"
   ]
  },
  {
   "cell_type": "code",
   "execution_count": 9,
   "metadata": {},
   "outputs": [
    {
     "name": "stdout",
     "output_type": "stream",
     "text": [
      "<class 'pandas.core.frame.DataFrame'>\n",
      "Index: 101 entries, 2016-06-15 to 2016-03-30\n",
      "Data columns (total 11 columns):\n",
      "Anticipation      101 non-null float64\n",
      "Disgust           101 non-null float64\n",
      "Fear              101 non-null float64\n",
      "Joy               101 non-null float64\n",
      "Negative          101 non-null float64\n",
      "Positive          101 non-null float64\n",
      "Sadness           101 non-null float64\n",
      "Surprise          101 non-null float64\n",
      "Trust             101 non-null float64\n",
      "follower_count    101 non-null float64\n",
      "Pct_change        101 non-null float64\n",
      "dtypes: float64(11)\n",
      "memory usage: 9.5+ KB\n"
     ]
    }
   ],
   "source": [
    "df.info()"
   ]
  },
  {
   "cell_type": "code",
   "execution_count": 10,
   "metadata": {},
   "outputs": [
    {
     "data": {
      "text/plain": [
       "101"
      ]
     },
     "execution_count": 10,
     "metadata": {},
     "output_type": "execute_result"
    }
   ],
   "source": [
    "#covenverting percentge change to 0,1 clasification\n",
    "df['tagged'] = np.where(d f['Pct_change'] < 0, 0, 1)\n",
    "len(df)"
   ]
  },
  {
   "cell_type": "code",
   "execution_count": 176,
   "metadata": {},
   "outputs": [
    {
     "data": {
      "image/png": "[encoded data removed]",
      "text/plain": [
       "<Figure size 432x288 with 1 Axes>"
      ]
     },
     "metadata": {},
     "output_type": "display_data"
    }
   ],
   "source": [
    "import matplotlib.pyplot as plot\n",
    "plot.pcolor(df.corr(), cmap='coolwarm')\n",
    "plot.show()"
   ]
  },
  {
   "cell_type": "code",
   "execution_count": 196,
   "metadata": {},
   "outputs": [],
   "source": [
    "#train and test set\n",
    "from sklearn.model_selection import train_test_split\n",
    "train, test = train_test_split(df, test_size=0.3)\n",
    "x_train = train.iloc[0:, 0:10]\n",
    "y_train = train['tagged']\n",
    "x_test = test.iloc[0:, 0:10]\n",
    "y_test = test['tagged']"
   ]
  },
  {
   "cell_type": "code",
   "execution_count": 197,
   "metadata": {},
   "outputs": [
    {
     "data": {
      "text/plain": [
       "LinearRegression(copy_X=True, fit_intercept=True, n_jobs=1, normalize=False)"
      ]
     },
     "execution_count": 197,
     "metadata": {},
     "output_type": "execute_result"
    }
   ],
   "source": [
    "from sklearn import linear_model\n",
    "model = linear_model.LinearRegression()\n",
    "model.fit(x_train, y_train)"
   ]
  },
  {
   "cell_type": "code",
   "execution_count": 198,
   "metadata": {},
   "outputs": [
    {
     "name": "stdout",
     "output_type": "stream",
     "text": [
      "[0.62229678 0.64767211 0.48250464 0.83753904 0.54516045 0.48815379\n",
      " 0.32096338 0.51092113 0.48583546 0.41904837 0.42473271 0.29712895\n",
      " 0.20315062 0.22586219 0.71415796 0.3505757  0.38957785 0.78456874\n",
      " 0.7658901  0.78766035 0.41266658 0.39508954 0.60989517 0.5134893\n",
      " 0.61704325 0.51679162 0.27610266 0.66522717 0.65803124 0.36182821\n",
      " 0.67889393]\n"
     ]
    }
   ],
   "source": [
    "testing_predictions = model.predict(x_test)\n",
    "print(testing_predictions)"
   ]
  },
  {
   "cell_type": "code",
   "execution_count": 199,
   "metadata": {},
   "outputs": [],
   "source": [
    "# for i in range(len(testing_predictions)):\n",
    "#     print(testing_predictions[i],y_train[i])"
   ]
  },
  {
   "cell_type": "code",
   "execution_count": 200,
   "metadata": {},
   "outputs": [],
   "source": [
    "def get_classification(predictions, threshold):\n",
    "    classes = np.zeros_like(testing_predictions)\n",
    "    for i in range(len(classes)):\n",
    "        if predictions[i] > threshold:\n",
    "            classes[i] = 1\n",
    "    return classes"
   ]
  },
  {
   "cell_type": "code",
   "execution_count": 201,
   "metadata": {},
   "outputs": [],
   "source": [
    "# get_classification(testing_predictions,0.7)"
   ]
  },
  {
   "cell_type": "code",
   "execution_count": 202,
   "metadata": {},
   "outputs": [],
   "source": [
    "# def get_classification(predictions,threshold):\n",
    "#     classes = np.zeros_like(testing_predictions)\n",
    "#     for i in range(len(classes)):\n",
    "#         if predictions[i] > threshold:\n",
    "#             classes[i] = 1\n",
    "#     return classes\n",
    "\n",
    "# get_classification(testing_predictions,0.5)"
   ]
  },
  {
   "cell_type": "code",
   "execution_count": 203,
   "metadata": {},
   "outputs": [
    {
     "name": "stdout",
     "output_type": "stream",
     "text": [
      "0.7096774193548387\n"
     ]
    }
   ],
   "source": [
    "#finding threshold for max accurracy\n",
    "accuracy = []\n",
    "for i in range(100):\n",
    "    from sklearn.metrics import confusion_matrix\n",
    "    confusion_matrix(y_test, get_classification(testing_predictions, i / 100))\n",
    "    tn, fp, fn, tp = confusion_matrix(\n",
    "        y_test, get_classification(testing_predictions, i / 100)).ravel()\n",
    "    accuracy.append((tp + tn) / (tp + tn + fp + fn))\n",
    "x = max(accuracy)\n",
    "print(x)\n",
    "y = accuracy.index(x)"
   ]
  },
  {
   "cell_type": "code",
   "execution_count": null,
   "metadata": {},
   "outputs": [],
   "source": []
  },
  {
   "cell_type": "code",
   "execution_count": null,
   "metadata": {},
   "outputs": [],
   "source": []
  },
  {
   "cell_type": "code",
   "execution_count": 204,
   "metadata": {},
   "outputs": [
    {
     "name": "stdout",
     "output_type": "stream",
     "text": [
      "Accuracy of this model found to be 70.967742 \n"
     ]
    }
   ],
   "source": [
    "print(\"Accuracy of this model found to be %f \" % (x * 100))"
   ]
  },
  {
   "cell_type": "code",
   "execution_count": 205,
   "metadata": {},
   "outputs": [
    {
     "data": {
      "text/plain": [
       "array([[10,  7],\n",
       "       [ 2, 12]], dtype=int64)"
      ]
     },
     "execution_count": 205,
     "metadata": {},
     "output_type": "execute_result"
    }
   ],
   "source": [
    "from sklearn.metrics import confusion_matrix\n",
    "confusion_matrix(y_test, get_classification(testing_predictions, y / 100))"
   ]
  },
  {
   "cell_type": "code",
   "execution_count": 206,
   "metadata": {},
   "outputs": [
    {
     "name": "stdout",
     "output_type": "stream",
     "text": [
      "10 7 2 12\n"
     ]
    }
   ],
   "source": [
    "tn, fp, fn, tp = confusion_matrix(\n",
    "    y_test, get_classification(testing_predictions, y / 100)).ravel()\n",
    "print(tn, fp, fn, tp)"
   ]
  },
  {
   "cell_type": "code",
   "execution_count": 207,
   "metadata": {},
   "outputs": [
    {
     "name": "stdout",
     "output_type": "stream",
     "text": [
      "Percentage of stocks correctly predicted: 85.71428571428571\n",
      "Accuracy of the model is: 70.96774193548387\n"
     ]
    }
   ],
   "source": [
    "tpr = tp / (tp + fn)\n",
    "accuracy = (tp + tn) / (tp + tn + fp + fn)\n",
    "print(\"Percentage of stocks correctly predicted:\", tpr * 100)\n",
    "print(\"Accuracy of the model is:\", accuracy * 100)"
   ]
  },
  {
   "cell_type": "code",
   "execution_count": 208,
   "metadata": {},
   "outputs": [],
   "source": [
    "# from sklearn.model_selection import LeaveOneOut\n",
    "# X = np.array(df.iloc[0:,0:10])\n",
    "# y = df['tagged']\n",
    "# loo = LeaveOneOut()\n",
    "# loo.get_n_splits(X)\n",
    "# accuracy=[]\n",
    "# testing_validation= []\n",
    "# for train_index, test_index in loo.split(X):\n",
    "#         X_train, X_test = X[train_index], X[test_index]\n",
    "#         y_train, y_test = y[train_index], y[test_index]\n",
    "#         model = linear_model.LinearRegression()\n",
    "#         model.fit(X_train,y_train)\n",
    "#         testing_predictions  = model.predict(X_test)\n",
    "#         a=get_classification(testing_predictions,0.4)"
   ]
  },
  {
   "cell_type": "code",
   "execution_count": 79,
   "metadata": {},
   "outputs": [
    {
     "data": {
      "text/plain": [
       "0"
      ]
     },
     "execution_count": 79,
     "metadata": {},
     "output_type": "execute_result"
    }
   ],
   "source": [
    "# testing_validation=[float(i) for i in range(len(testing_validation))]\n",
    "# len(testing_validation)"
   ]
  },
  {
   "cell_type": "code",
   "execution_count": 209,
   "metadata": {},
   "outputs": [],
   "source": [
    "# import statsmodels.api as sm\n",
    "# X = sm.add_constant(x_train)\n",
    "# model = sm.OLS(y_train, x_train).fit()\n",
    "# model.summary()"
   ]
  },
  {
   "cell_type": "code",
   "execution_count": 325,
   "metadata": {},
   "outputs": [],
   "source": [
    "from sklearn.ensemble import RandomForestClassifier\n",
    "model = RandomForestClassifier(n_estimators=10)\n",
    "#np.ravel flattens the pandas Series into an np array. That's what the classifier needs\n",
    "model.fit(x_train, np.ravel(y_train))\n",
    "a = model.score(x_test, y_test)"
   ]
  },
  {
   "cell_type": "code",
   "execution_count": 326,
   "metadata": {},
   "outputs": [
    {
     "name": "stdout",
     "output_type": "stream",
     "text": [
      "accuracy of the model is 70.967742\n"
     ]
    }
   ],
   "source": [
    "print(\"accuracy of the model is %f\" % (a * 100))"
   ]
  },
  {
   "cell_type": "code",
   "execution_count": 327,
   "metadata": {},
   "outputs": [
    {
     "data": {
      "text/plain": [
       "array([[11,  6],\n",
       "       [ 3, 11]], dtype=int64)"
      ]
     },
     "execution_count": 327,
     "metadata": {},
     "output_type": "execute_result"
    }
   ],
   "source": [
    "from sklearn.metrics import confusion_matrix\n",
    "y_pred = model.predict(x_test)\n",
    "cfm = confusion_matrix(np.ravel(y_test), y_pred)\n",
    "cfm"
   ]
  },
  {
   "cell_type": "code",
   "execution_count": 328,
   "metadata": {},
   "outputs": [],
   "source": [
    "tn, fp, fn, tp = cfm[0][0], cfm[0][1], cfm[1][0], cfm[1][1]"
   ]
  },
  {
   "cell_type": "code",
   "execution_count": 329,
   "metadata": {},
   "outputs": [
    {
     "name": "stdout",
     "output_type": "stream",
     "text": [
      "Percentage of stocks correctly predicted: 78.57142857142857\n",
      "Accuracy of the model is: 70.96774193548387\n"
     ]
    }
   ],
   "source": [
    "tpr = tp / (tp + fn)\n",
    "accuracy = (tp + tn) / (tp + tn + fp + fn)\n",
    "print(\"Percentage of stocks correctly predicted:\", tpr * 100)\n",
    "print(\"Accuracy of the model is:\", accuracy * 100)"
   ]
  },
  {
   "cell_type": "code",
   "execution_count": 330,
   "metadata": {},
   "outputs": [
    {
     "data": {
      "text/plain": [
       "Text(0.5,0,'Relative Importance')"
      ]
     },
     "execution_count": 330,
     "metadata": {},
     "output_type": "execute_result"
    },
    {
     "data": {
      "image/png": "[encoded data removed]",
      "text/plain": [
       "<Figure size 720x720 with 1 Axes>"
      ]
     },
     "metadata": {},
     "output_type": "display_data"
    }
   ],
   "source": [
    "import matplotlib.pyplot as plt\n",
    "%matplotlib inline\n",
    "importances = model.feature_importances_\n",
    "feature_names = df.columns\n",
    "indices = np.argsort(importances)\n",
    "plt.figure(figsize=(10, 10))\n",
    "plt.title('Feature Importances')\n",
    "plt.barh(range(len(indices)), importances[indices], color='b', align='center')\n",
    "plt.yticks(range(len(indices)), feature_names)\n",
    "plt.xlabel('Relative Importance')"
   ]
  },
  {
   "cell_type": "code",
   "execution_count": null,
   "metadata": {},
   "outputs": [],
   "source": []
  }
 ],
 "metadata": {
  "kernelspec": {
   "display_name": "Python 3",
   "language": "python",
   "name": "python3"
  },
  "language_info": {
   "codemirror_mode": {
    "name": "ipython",
    "version": 3
   },
   "file_extension": ".py",
   "mimetype": "text/x-python",
   "name": "python",
   "nbconvert_exporter": "python",
   "pygments_lexer": "ipython3",
   "version": "3.6.5"
  }
 },
 "nbformat": 4,
 "nbformat_minor": 2
}
